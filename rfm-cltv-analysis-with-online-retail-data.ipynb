{
 "cells": [
  {
   "cell_type": "markdown",
   "id": "established-investor",
   "metadata": {
    "papermill": {
     "duration": 0.049424,
     "end_time": "2021-07-07T13:02:59.299830",
     "exception": false,
     "start_time": "2021-07-07T13:02:59.250406",
     "status": "completed"
    },
    "tags": []
   },
   "source": [
    "# RFM Analysis"
   ]
  },
  {
   "cell_type": "code",
   "execution_count": 1,
   "id": "respective-lewis",
   "metadata": {
    "execution": {
     "iopub.execute_input": "2021-07-07T13:02:59.397670Z",
     "iopub.status.busy": "2021-07-07T13:02:59.397004Z",
     "iopub.status.idle": "2021-07-07T13:02:59.400359Z",
     "shell.execute_reply": "2021-07-07T13:02:59.399753Z",
     "shell.execute_reply.started": "2021-07-07T12:58:37.409017Z"
    },
    "papermill": {
     "duration": 0.055081,
     "end_time": "2021-07-07T13:02:59.400523",
     "exception": false,
     "start_time": "2021-07-07T13:02:59.345442",
     "status": "completed"
    },
    "tags": []
   },
   "outputs": [],
   "source": [
    "# importing libraries\n",
    "import datetime as dt\n",
    "import pandas as pd\n",
    "pd.set_option('display.max_columns', None)  # tüm sütunları gösterir\n",
    "# pd.set_option('display.max_rows', None) # tüm satırları gösterir\n",
    "pd.set_option('display.float_format', lambda x: '%.4f' % x)  # numeric değerleri float virgülden sonra 4 hane gösterir"
   ]
  },
  {
   "cell_type": "code",
   "execution_count": 2,
   "id": "attempted-serum",
   "metadata": {
    "execution": {
     "iopub.execute_input": "2021-07-07T13:02:59.497478Z",
     "iopub.status.busy": "2021-07-07T13:02:59.496699Z",
     "iopub.status.idle": "2021-07-07T13:03:07.955299Z",
     "shell.execute_reply": "2021-07-07T13:03:07.954572Z",
     "shell.execute_reply.started": "2021-07-07T12:58:37.418480Z"
    },
    "papermill": {
     "duration": 8.509214,
     "end_time": "2021-07-07T13:03:07.955438",
     "exception": false,
     "start_time": "2021-07-07T13:02:59.446224",
     "status": "completed"
    },
    "tags": []
   },
   "outputs": [
    {
     "name": "stdout",
     "output_type": "stream",
     "text": [
      "Collecting xlrd==1.2.0\r\n",
      "  Downloading xlrd-1.2.0-py2.py3-none-any.whl (103 kB)\r\n",
      "\u001b[K     |████████████████████████████████| 103 kB 5.4 MB/s \r\n",
      "\u001b[?25hInstalling collected packages: xlrd\r\n",
      "Successfully installed xlrd-1.2.0\r\n",
      "Note: you may need to restart the kernel to use updated packages.\n"
     ]
    }
   ],
   "source": [
    "pip install xlrd==1.2.0 "
   ]
  },
  {
   "cell_type": "code",
   "execution_count": 3,
   "id": "working-writing",
   "metadata": {
    "execution": {
     "iopub.execute_input": "2021-07-07T13:03:08.060905Z",
     "iopub.status.busy": "2021-07-07T13:03:08.060124Z",
     "iopub.status.idle": "2021-07-07T13:03:15.297911Z",
     "shell.execute_reply": "2021-07-07T13:03:15.297306Z",
     "shell.execute_reply.started": "2021-07-07T12:58:44.691361Z"
    },
    "papermill": {
     "duration": 7.294269,
     "end_time": "2021-07-07T13:03:15.298070",
     "exception": false,
     "start_time": "2021-07-07T13:03:08.003801",
     "status": "completed"
    },
    "tags": []
   },
   "outputs": [
    {
     "name": "stdout",
     "output_type": "stream",
     "text": [
      "Collecting openpyxl\r\n",
      "  Downloading openpyxl-3.0.7-py2.py3-none-any.whl (243 kB)\r\n",
      "\u001b[K     |████████████████████████████████| 243 kB 5.2 MB/s \r\n",
      "\u001b[?25hCollecting et-xmlfile\r\n",
      "  Downloading et_xmlfile-1.1.0-py3-none-any.whl (4.7 kB)\r\n",
      "Installing collected packages: et-xmlfile, openpyxl\r\n",
      "Successfully installed et-xmlfile-1.1.0 openpyxl-3.0.7\r\n",
      "Note: you may need to restart the kernel to use updated packages.\n"
     ]
    }
   ],
   "source": [
    "pip install openpyxl\n"
   ]
  },
  {
   "cell_type": "code",
   "execution_count": 4,
   "id": "extra-crime",
   "metadata": {
    "execution": {
     "iopub.execute_input": "2021-07-07T13:03:15.407100Z",
     "iopub.status.busy": "2021-07-07T13:03:15.406127Z",
     "iopub.status.idle": "2021-07-07T13:05:03.428173Z",
     "shell.execute_reply": "2021-07-07T13:05:03.427366Z",
     "shell.execute_reply.started": "2021-07-07T12:58:51.344827Z"
    },
    "papermill": {
     "duration": 108.079827,
     "end_time": "2021-07-07T13:05:03.428334",
     "exception": false,
     "start_time": "2021-07-07T13:03:15.348507",
     "status": "completed"
    },
    "tags": []
   },
   "outputs": [],
   "source": [
    "# reading the data\n",
    "\n",
    "df_ = pd.read_excel(\"../input/uci-online-retail-ii-data-set/online_retail_II.xlsx\", sheet_name=\"Year 2010-2011\")\n",
    "df = df_.copy()"
   ]
  },
  {
   "cell_type": "code",
   "execution_count": 5,
   "id": "pregnant-hybrid",
   "metadata": {
    "execution": {
     "iopub.execute_input": "2021-07-07T13:05:03.542963Z",
     "iopub.status.busy": "2021-07-07T13:05:03.541174Z",
     "iopub.status.idle": "2021-07-07T13:05:03.564715Z",
     "shell.execute_reply": "2021-07-07T13:05:03.563994Z",
     "shell.execute_reply.started": "2021-07-07T13:00:39.897688Z"
    },
    "papermill": {
     "duration": 0.084834,
     "end_time": "2021-07-07T13:05:03.564857",
     "exception": false,
     "start_time": "2021-07-07T13:05:03.480023",
     "status": "completed"
    },
    "tags": []
   },
   "outputs": [
    {
     "data": {
      "text/html": [
       "<div>\n",
       "<style scoped>\n",
       "    .dataframe tbody tr th:only-of-type {\n",
       "        vertical-align: middle;\n",
       "    }\n",
       "\n",
       "    .dataframe tbody tr th {\n",
       "        vertical-align: top;\n",
       "    }\n",
       "\n",
       "    .dataframe thead th {\n",
       "        text-align: right;\n",
       "    }\n",
       "</style>\n",
       "<table border=\"1\" class=\"dataframe\">\n",
       "  <thead>\n",
       "    <tr style=\"text-align: right;\">\n",
       "      <th></th>\n",
       "      <th>Invoice</th>\n",
       "      <th>StockCode</th>\n",
       "      <th>Description</th>\n",
       "      <th>Quantity</th>\n",
       "      <th>InvoiceDate</th>\n",
       "      <th>Price</th>\n",
       "      <th>Customer ID</th>\n",
       "      <th>Country</th>\n",
       "    </tr>\n",
       "  </thead>\n",
       "  <tbody>\n",
       "    <tr>\n",
       "      <th>0</th>\n",
       "      <td>536365</td>\n",
       "      <td>85123A</td>\n",
       "      <td>WHITE HANGING HEART T-LIGHT HOLDER</td>\n",
       "      <td>6</td>\n",
       "      <td>2010-12-01 08:26:00</td>\n",
       "      <td>2.5500</td>\n",
       "      <td>17850.0000</td>\n",
       "      <td>United Kingdom</td>\n",
       "    </tr>\n",
       "    <tr>\n",
       "      <th>1</th>\n",
       "      <td>536365</td>\n",
       "      <td>71053</td>\n",
       "      <td>WHITE METAL LANTERN</td>\n",
       "      <td>6</td>\n",
       "      <td>2010-12-01 08:26:00</td>\n",
       "      <td>3.3900</td>\n",
       "      <td>17850.0000</td>\n",
       "      <td>United Kingdom</td>\n",
       "    </tr>\n",
       "    <tr>\n",
       "      <th>2</th>\n",
       "      <td>536365</td>\n",
       "      <td>84406B</td>\n",
       "      <td>CREAM CUPID HEARTS COAT HANGER</td>\n",
       "      <td>8</td>\n",
       "      <td>2010-12-01 08:26:00</td>\n",
       "      <td>2.7500</td>\n",
       "      <td>17850.0000</td>\n",
       "      <td>United Kingdom</td>\n",
       "    </tr>\n",
       "    <tr>\n",
       "      <th>3</th>\n",
       "      <td>536365</td>\n",
       "      <td>84029G</td>\n",
       "      <td>KNITTED UNION FLAG HOT WATER BOTTLE</td>\n",
       "      <td>6</td>\n",
       "      <td>2010-12-01 08:26:00</td>\n",
       "      <td>3.3900</td>\n",
       "      <td>17850.0000</td>\n",
       "      <td>United Kingdom</td>\n",
       "    </tr>\n",
       "    <tr>\n",
       "      <th>4</th>\n",
       "      <td>536365</td>\n",
       "      <td>84029E</td>\n",
       "      <td>RED WOOLLY HOTTIE WHITE HEART.</td>\n",
       "      <td>6</td>\n",
       "      <td>2010-12-01 08:26:00</td>\n",
       "      <td>3.3900</td>\n",
       "      <td>17850.0000</td>\n",
       "      <td>United Kingdom</td>\n",
       "    </tr>\n",
       "  </tbody>\n",
       "</table>\n",
       "</div>"
      ],
      "text/plain": [
       "  Invoice StockCode                          Description  Quantity  \\\n",
       "0  536365    85123A   WHITE HANGING HEART T-LIGHT HOLDER         6   \n",
       "1  536365     71053                  WHITE METAL LANTERN         6   \n",
       "2  536365    84406B       CREAM CUPID HEARTS COAT HANGER         8   \n",
       "3  536365    84029G  KNITTED UNION FLAG HOT WATER BOTTLE         6   \n",
       "4  536365    84029E       RED WOOLLY HOTTIE WHITE HEART.         6   \n",
       "\n",
       "          InvoiceDate  Price  Customer ID         Country  \n",
       "0 2010-12-01 08:26:00 2.5500   17850.0000  United Kingdom  \n",
       "1 2010-12-01 08:26:00 3.3900   17850.0000  United Kingdom  \n",
       "2 2010-12-01 08:26:00 2.7500   17850.0000  United Kingdom  \n",
       "3 2010-12-01 08:26:00 3.3900   17850.0000  United Kingdom  \n",
       "4 2010-12-01 08:26:00 3.3900   17850.0000  United Kingdom  "
      ]
     },
     "execution_count": 5,
     "metadata": {},
     "output_type": "execute_result"
    }
   ],
   "source": [
    "df.head()"
   ]
  },
  {
   "cell_type": "code",
   "execution_count": 6,
   "id": "distinguished-recommendation",
   "metadata": {
    "execution": {
     "iopub.execute_input": "2021-07-07T13:05:03.674012Z",
     "iopub.status.busy": "2021-07-07T13:05:03.673347Z",
     "iopub.status.idle": "2021-07-07T13:05:03.910272Z",
     "shell.execute_reply": "2021-07-07T13:05:03.909702Z",
     "shell.execute_reply.started": "2021-07-07T13:00:39.916440Z"
    },
    "papermill": {
     "duration": 0.29396,
     "end_time": "2021-07-07T13:05:03.910416",
     "exception": false,
     "start_time": "2021-07-07T13:05:03.616456",
     "status": "completed"
    },
    "tags": []
   },
   "outputs": [
    {
     "name": "stdout",
     "output_type": "stream",
     "text": [
      "<class 'pandas.core.frame.DataFrame'>\n",
      "RangeIndex: 541910 entries, 0 to 541909\n",
      "Data columns (total 8 columns):\n",
      " #   Column       Non-Null Count   Dtype         \n",
      "---  ------       --------------   -----         \n",
      " 0   Invoice      541910 non-null  object        \n",
      " 1   StockCode    541910 non-null  object        \n",
      " 2   Description  540456 non-null  object        \n",
      " 3   Quantity     541910 non-null  int64         \n",
      " 4   InvoiceDate  541910 non-null  datetime64[ns]\n",
      " 5   Price        541910 non-null  float64       \n",
      " 6   Customer ID  406830 non-null  float64       \n",
      " 7   Country      541910 non-null  object        \n",
      "dtypes: datetime64[ns](1), float64(2), int64(1), object(4)\n",
      "memory usage: 33.1+ MB\n"
     ]
    }
   ],
   "source": [
    "\n",
    "\n",
    "df.info()\n"
   ]
  },
  {
   "cell_type": "code",
   "execution_count": 7,
   "id": "terminal-hughes",
   "metadata": {
    "execution": {
     "iopub.execute_input": "2021-07-07T13:05:04.025293Z",
     "iopub.status.busy": "2021-07-07T13:05:04.024226Z",
     "iopub.status.idle": "2021-07-07T13:05:04.092940Z",
     "shell.execute_reply": "2021-07-07T13:05:04.092285Z",
     "shell.execute_reply.started": "2021-07-07T13:00:40.158958Z"
    },
    "papermill": {
     "duration": 0.131993,
     "end_time": "2021-07-07T13:05:04.093081",
     "exception": false,
     "start_time": "2021-07-07T13:05:03.961088",
     "status": "completed"
    },
    "tags": []
   },
   "outputs": [
    {
     "data": {
      "text/html": [
       "<div>\n",
       "<style scoped>\n",
       "    .dataframe tbody tr th:only-of-type {\n",
       "        vertical-align: middle;\n",
       "    }\n",
       "\n",
       "    .dataframe tbody tr th {\n",
       "        vertical-align: top;\n",
       "    }\n",
       "\n",
       "    .dataframe thead th {\n",
       "        text-align: right;\n",
       "    }\n",
       "</style>\n",
       "<table border=\"1\" class=\"dataframe\">\n",
       "  <thead>\n",
       "    <tr style=\"text-align: right;\">\n",
       "      <th></th>\n",
       "      <th>count</th>\n",
       "      <th>mean</th>\n",
       "      <th>std</th>\n",
       "      <th>min</th>\n",
       "      <th>25%</th>\n",
       "      <th>50%</th>\n",
       "      <th>75%</th>\n",
       "      <th>max</th>\n",
       "    </tr>\n",
       "  </thead>\n",
       "  <tbody>\n",
       "    <tr>\n",
       "      <th>Quantity</th>\n",
       "      <td>541910.0000</td>\n",
       "      <td>9.5522</td>\n",
       "      <td>218.0810</td>\n",
       "      <td>-80995.0000</td>\n",
       "      <td>1.0000</td>\n",
       "      <td>3.0000</td>\n",
       "      <td>10.0000</td>\n",
       "      <td>80995.0000</td>\n",
       "    </tr>\n",
       "    <tr>\n",
       "      <th>Price</th>\n",
       "      <td>541910.0000</td>\n",
       "      <td>4.6111</td>\n",
       "      <td>96.7598</td>\n",
       "      <td>-11062.0600</td>\n",
       "      <td>1.2500</td>\n",
       "      <td>2.0800</td>\n",
       "      <td>4.1300</td>\n",
       "      <td>38970.0000</td>\n",
       "    </tr>\n",
       "    <tr>\n",
       "      <th>Customer ID</th>\n",
       "      <td>406830.0000</td>\n",
       "      <td>15287.6842</td>\n",
       "      <td>1713.6031</td>\n",
       "      <td>12346.0000</td>\n",
       "      <td>13953.0000</td>\n",
       "      <td>15152.0000</td>\n",
       "      <td>16791.0000</td>\n",
       "      <td>18287.0000</td>\n",
       "    </tr>\n",
       "  </tbody>\n",
       "</table>\n",
       "</div>"
      ],
      "text/plain": [
       "                  count       mean       std         min        25%  \\\n",
       "Quantity    541910.0000     9.5522  218.0810 -80995.0000     1.0000   \n",
       "Price       541910.0000     4.6111   96.7598 -11062.0600     1.2500   \n",
       "Customer ID 406830.0000 15287.6842 1713.6031  12346.0000 13953.0000   \n",
       "\n",
       "                   50%        75%        max  \n",
       "Quantity        3.0000    10.0000 80995.0000  \n",
       "Price           2.0800     4.1300 38970.0000  \n",
       "Customer ID 15152.0000 16791.0000 18287.0000  "
      ]
     },
     "execution_count": 7,
     "metadata": {},
     "output_type": "execute_result"
    }
   ],
   "source": [
    "\n",
    "# descriptive statistics info\n",
    "df.describe().T\n"
   ]
  },
  {
   "cell_type": "code",
   "execution_count": 8,
   "id": "ideal-attack",
   "metadata": {
    "execution": {
     "iopub.execute_input": "2021-07-07T13:05:04.202050Z",
     "iopub.status.busy": "2021-07-07T13:05:04.200990Z",
     "iopub.status.idle": "2021-07-07T13:05:04.423819Z",
     "shell.execute_reply": "2021-07-07T13:05:04.423289Z",
     "shell.execute_reply.started": "2021-07-07T13:00:40.386483Z"
    },
    "papermill": {
     "duration": 0.278932,
     "end_time": "2021-07-07T13:05:04.423964",
     "exception": false,
     "start_time": "2021-07-07T13:05:04.145032",
     "status": "completed"
    },
    "tags": []
   },
   "outputs": [
    {
     "data": {
      "text/plain": [
       "Invoice             0\n",
       "StockCode           0\n",
       "Description      1454\n",
       "Quantity            0\n",
       "InvoiceDate         0\n",
       "Price               0\n",
       "Customer ID    135080\n",
       "Country             0\n",
       "dtype: int64"
      ]
     },
     "execution_count": 8,
     "metadata": {},
     "output_type": "execute_result"
    }
   ],
   "source": [
    "# empty value checking\n",
    "df.isnull().sum()"
   ]
  },
  {
   "cell_type": "code",
   "execution_count": 9,
   "id": "previous-coordinator",
   "metadata": {
    "execution": {
     "iopub.execute_input": "2021-07-07T13:05:04.533238Z",
     "iopub.status.busy": "2021-07-07T13:05:04.532157Z",
     "iopub.status.idle": "2021-07-07T13:05:04.754629Z",
     "shell.execute_reply": "2021-07-07T13:05:04.754100Z",
     "shell.execute_reply.started": "2021-07-07T13:00:40.618587Z"
    },
    "papermill": {
     "duration": 0.279281,
     "end_time": "2021-07-07T13:05:04.754794",
     "exception": false,
     "start_time": "2021-07-07T13:05:04.475513",
     "status": "completed"
    },
    "tags": []
   },
   "outputs": [
    {
     "data": {
      "text/plain": [
       "Invoice             0\n",
       "StockCode           0\n",
       "Description      1454\n",
       "Quantity            0\n",
       "InvoiceDate         0\n",
       "Price               0\n",
       "Customer ID    135080\n",
       "Country             0\n",
       "dtype: int64"
      ]
     },
     "execution_count": 9,
     "metadata": {},
     "output_type": "execute_result"
    }
   ],
   "source": [
    "# re-check \n",
    "df.isnull().sum()"
   ]
  },
  {
   "cell_type": "code",
   "execution_count": 10,
   "id": "horizontal-oliver",
   "metadata": {
    "execution": {
     "iopub.execute_input": "2021-07-07T13:05:04.917190Z",
     "iopub.status.busy": "2021-07-07T13:05:04.915994Z",
     "iopub.status.idle": "2021-07-07T13:05:04.963666Z",
     "shell.execute_reply": "2021-07-07T13:05:04.963041Z",
     "shell.execute_reply.started": "2021-07-07T13:00:40.846472Z"
    },
    "papermill": {
     "duration": 0.156153,
     "end_time": "2021-07-07T13:05:04.963811",
     "exception": false,
     "start_time": "2021-07-07T13:05:04.807658",
     "status": "completed"
    },
    "tags": []
   },
   "outputs": [
    {
     "data": {
      "text/plain": [
       "4070"
      ]
     },
     "execution_count": 10,
     "metadata": {},
     "output_type": "execute_result"
    }
   ],
   "source": [
    "# unique values count\n",
    "\n",
    "df[\"StockCode\"].nunique()"
   ]
  },
  {
   "cell_type": "code",
   "execution_count": 11,
   "id": "appropriate-magic",
   "metadata": {
    "execution": {
     "iopub.execute_input": "2021-07-07T13:05:05.075583Z",
     "iopub.status.busy": "2021-07-07T13:05:05.074564Z",
     "iopub.status.idle": "2021-07-07T13:05:05.145075Z",
     "shell.execute_reply": "2021-07-07T13:05:05.144422Z",
     "shell.execute_reply.started": "2021-07-07T13:00:40.939106Z"
    },
    "papermill": {
     "duration": 0.129107,
     "end_time": "2021-07-07T13:05:05.145243",
     "exception": false,
     "start_time": "2021-07-07T13:05:05.016136",
     "status": "completed"
    },
    "tags": []
   },
   "outputs": [
    {
     "data": {
      "text/html": [
       "<div>\n",
       "<style scoped>\n",
       "    .dataframe tbody tr th:only-of-type {\n",
       "        vertical-align: middle;\n",
       "    }\n",
       "\n",
       "    .dataframe tbody tr th {\n",
       "        vertical-align: top;\n",
       "    }\n",
       "\n",
       "    .dataframe thead th {\n",
       "        text-align: right;\n",
       "    }\n",
       "</style>\n",
       "<table border=\"1\" class=\"dataframe\">\n",
       "  <thead>\n",
       "    <tr style=\"text-align: right;\">\n",
       "      <th></th>\n",
       "      <th>Quantity</th>\n",
       "    </tr>\n",
       "    <tr>\n",
       "      <th>StockCode</th>\n",
       "      <th></th>\n",
       "    </tr>\n",
       "  </thead>\n",
       "  <tbody>\n",
       "    <tr>\n",
       "      <th>10002</th>\n",
       "      <td>1037</td>\n",
       "    </tr>\n",
       "    <tr>\n",
       "      <th>10080</th>\n",
       "      <td>495</td>\n",
       "    </tr>\n",
       "    <tr>\n",
       "      <th>10120</th>\n",
       "      <td>193</td>\n",
       "    </tr>\n",
       "    <tr>\n",
       "      <th>10125</th>\n",
       "      <td>1296</td>\n",
       "    </tr>\n",
       "    <tr>\n",
       "      <th>10133</th>\n",
       "      <td>2775</td>\n",
       "    </tr>\n",
       "    <tr>\n",
       "      <th>...</th>\n",
       "      <td>...</td>\n",
       "    </tr>\n",
       "    <tr>\n",
       "      <th>gift_0001_20</th>\n",
       "      <td>20</td>\n",
       "    </tr>\n",
       "    <tr>\n",
       "      <th>gift_0001_30</th>\n",
       "      <td>37</td>\n",
       "    </tr>\n",
       "    <tr>\n",
       "      <th>gift_0001_40</th>\n",
       "      <td>3</td>\n",
       "    </tr>\n",
       "    <tr>\n",
       "      <th>gift_0001_50</th>\n",
       "      <td>4</td>\n",
       "    </tr>\n",
       "    <tr>\n",
       "      <th>m</th>\n",
       "      <td>1</td>\n",
       "    </tr>\n",
       "  </tbody>\n",
       "</table>\n",
       "<p>4070 rows × 1 columns</p>\n",
       "</div>"
      ],
      "text/plain": [
       "              Quantity\n",
       "StockCode             \n",
       "10002             1037\n",
       "10080              495\n",
       "10120              193\n",
       "10125             1296\n",
       "10133             2775\n",
       "...                ...\n",
       "gift_0001_20        20\n",
       "gift_0001_30        37\n",
       "gift_0001_40         3\n",
       "gift_0001_50         4\n",
       "m                    1\n",
       "\n",
       "[4070 rows x 1 columns]"
      ]
     },
     "execution_count": 11,
     "metadata": {},
     "output_type": "execute_result"
    }
   ],
   "source": [
    "\n",
    "df.groupby('StockCode').agg({'Quantity': \"sum\"})\n"
   ]
  },
  {
   "cell_type": "code",
   "execution_count": 12,
   "id": "casual-browser",
   "metadata": {
    "execution": {
     "iopub.execute_input": "2021-07-07T13:05:05.258508Z",
     "iopub.status.busy": "2021-07-07T13:05:05.257872Z",
     "iopub.status.idle": "2021-07-07T13:05:05.321565Z",
     "shell.execute_reply": "2021-07-07T13:05:05.321039Z",
     "shell.execute_reply.started": "2021-07-07T13:00:41.012876Z"
    },
    "papermill": {
     "duration": 0.123159,
     "end_time": "2021-07-07T13:05:05.321732",
     "exception": false,
     "start_time": "2021-07-07T13:05:05.198573",
     "status": "completed"
    },
    "tags": []
   },
   "outputs": [
    {
     "data": {
      "text/html": [
       "<div>\n",
       "<style scoped>\n",
       "    .dataframe tbody tr th:only-of-type {\n",
       "        vertical-align: middle;\n",
       "    }\n",
       "\n",
       "    .dataframe tbody tr th {\n",
       "        vertical-align: top;\n",
       "    }\n",
       "\n",
       "    .dataframe thead th {\n",
       "        text-align: right;\n",
       "    }\n",
       "</style>\n",
       "<table border=\"1\" class=\"dataframe\">\n",
       "  <thead>\n",
       "    <tr style=\"text-align: right;\">\n",
       "      <th></th>\n",
       "      <th>Quantity</th>\n",
       "    </tr>\n",
       "    <tr>\n",
       "      <th>StockCode</th>\n",
       "      <th></th>\n",
       "    </tr>\n",
       "  </thead>\n",
       "  <tbody>\n",
       "    <tr>\n",
       "      <th>22197</th>\n",
       "      <td>56450</td>\n",
       "    </tr>\n",
       "    <tr>\n",
       "      <th>84077</th>\n",
       "      <td>53847</td>\n",
       "    </tr>\n",
       "    <tr>\n",
       "      <th>85099B</th>\n",
       "      <td>47363</td>\n",
       "    </tr>\n",
       "    <tr>\n",
       "      <th>85123A</th>\n",
       "      <td>38830</td>\n",
       "    </tr>\n",
       "    <tr>\n",
       "      <th>84879</th>\n",
       "      <td>36221</td>\n",
       "    </tr>\n",
       "  </tbody>\n",
       "</table>\n",
       "</div>"
      ],
      "text/plain": [
       "           Quantity\n",
       "StockCode          \n",
       "22197         56450\n",
       "84077         53847\n",
       "85099B        47363\n",
       "85123A        38830\n",
       "84879         36221"
      ]
     },
     "execution_count": 12,
     "metadata": {},
     "output_type": "execute_result"
    }
   ],
   "source": [
    "# top 5 product after sorting\n",
    "df.groupby('StockCode').agg({'Quantity': \"sum\"}).sort_values(by=\"Quantity\", ascending=False).head(5)\n"
   ]
  },
  {
   "cell_type": "code",
   "execution_count": 13,
   "id": "blank-pixel",
   "metadata": {
    "execution": {
     "iopub.execute_input": "2021-07-07T13:05:05.487839Z",
     "iopub.status.busy": "2021-07-07T13:05:05.487118Z",
     "iopub.status.idle": "2021-07-07T13:05:06.374386Z",
     "shell.execute_reply": "2021-07-07T13:05:06.373811Z",
     "shell.execute_reply.started": "2021-07-07T13:00:41.083376Z"
    },
    "papermill": {
     "duration": 0.998851,
     "end_time": "2021-07-07T13:05:06.374523",
     "exception": false,
     "start_time": "2021-07-07T13:05:05.375672",
     "status": "completed"
    },
    "tags": []
   },
   "outputs": [],
   "source": [
    "# right now the returned good invoices still in dataframe but we have to discard them\n",
    "\n",
    "df = df[~df[\"Invoice\"].str.contains(\"C\", na=False)]  "
   ]
  },
  {
   "cell_type": "code",
   "execution_count": 14,
   "id": "intended-consequence",
   "metadata": {
    "execution": {
     "iopub.execute_input": "2021-07-07T13:05:06.487731Z",
     "iopub.status.busy": "2021-07-07T13:05:06.487061Z",
     "iopub.status.idle": "2021-07-07T13:05:06.511570Z",
     "shell.execute_reply": "2021-07-07T13:05:06.510584Z",
     "shell.execute_reply.started": "2021-07-07T13:00:42.023613Z"
    },
    "papermill": {
     "duration": 0.082914,
     "end_time": "2021-07-07T13:05:06.511771",
     "exception": false,
     "start_time": "2021-07-07T13:05:06.428857",
     "status": "completed"
    },
    "tags": []
   },
   "outputs": [],
   "source": [
    "# new observation for RFM metrics calculation\n",
    "df[\"TotalPrice\"] = df[\"Price\"] * df[\"Quantity\"]"
   ]
  },
  {
   "cell_type": "code",
   "execution_count": 15,
   "id": "descending-spider",
   "metadata": {
    "execution": {
     "iopub.execute_input": "2021-07-07T13:05:06.623334Z",
     "iopub.status.busy": "2021-07-07T13:05:06.622656Z",
     "iopub.status.idle": "2021-07-07T13:05:06.739529Z",
     "shell.execute_reply": "2021-07-07T13:05:06.739012Z",
     "shell.execute_reply.started": "2021-07-07T13:00:42.034950Z"
    },
    "papermill": {
     "duration": 0.174185,
     "end_time": "2021-07-07T13:05:06.739700",
     "exception": false,
     "start_time": "2021-07-07T13:05:06.565515",
     "status": "completed"
    },
    "tags": []
   },
   "outputs": [
    {
     "data": {
      "text/html": [
       "<div>\n",
       "<style scoped>\n",
       "    .dataframe tbody tr th:only-of-type {\n",
       "        vertical-align: middle;\n",
       "    }\n",
       "\n",
       "    .dataframe tbody tr th {\n",
       "        vertical-align: top;\n",
       "    }\n",
       "\n",
       "    .dataframe thead th {\n",
       "        text-align: right;\n",
       "    }\n",
       "</style>\n",
       "<table border=\"1\" class=\"dataframe\">\n",
       "  <thead>\n",
       "    <tr style=\"text-align: right;\">\n",
       "      <th></th>\n",
       "      <th>TotalPrice</th>\n",
       "    </tr>\n",
       "    <tr>\n",
       "      <th>Invoice</th>\n",
       "      <th></th>\n",
       "    </tr>\n",
       "  </thead>\n",
       "  <tbody>\n",
       "    <tr>\n",
       "      <th>536365</th>\n",
       "      <td>139.1200</td>\n",
       "    </tr>\n",
       "    <tr>\n",
       "      <th>536366</th>\n",
       "      <td>22.2000</td>\n",
       "    </tr>\n",
       "    <tr>\n",
       "      <th>536367</th>\n",
       "      <td>278.7300</td>\n",
       "    </tr>\n",
       "    <tr>\n",
       "      <th>536368</th>\n",
       "      <td>70.0500</td>\n",
       "    </tr>\n",
       "    <tr>\n",
       "      <th>536369</th>\n",
       "      <td>17.8500</td>\n",
       "    </tr>\n",
       "    <tr>\n",
       "      <th>...</th>\n",
       "      <td>...</td>\n",
       "    </tr>\n",
       "    <tr>\n",
       "      <th>581586</th>\n",
       "      <td>339.2000</td>\n",
       "    </tr>\n",
       "    <tr>\n",
       "      <th>581587</th>\n",
       "      <td>267.4500</td>\n",
       "    </tr>\n",
       "    <tr>\n",
       "      <th>A563185</th>\n",
       "      <td>11062.0600</td>\n",
       "    </tr>\n",
       "    <tr>\n",
       "      <th>A563186</th>\n",
       "      <td>-11062.0600</td>\n",
       "    </tr>\n",
       "    <tr>\n",
       "      <th>A563187</th>\n",
       "      <td>-11062.0600</td>\n",
       "    </tr>\n",
       "  </tbody>\n",
       "</table>\n",
       "<p>22064 rows × 1 columns</p>\n",
       "</div>"
      ],
      "text/plain": [
       "         TotalPrice\n",
       "Invoice            \n",
       "536365     139.1200\n",
       "536366      22.2000\n",
       "536367     278.7300\n",
       "536368      70.0500\n",
       "536369      17.8500\n",
       "...             ...\n",
       "581586     339.2000\n",
       "581587     267.4500\n",
       "A563185  11062.0600\n",
       "A563186 -11062.0600\n",
       "A563187 -11062.0600\n",
       "\n",
       "[22064 rows x 1 columns]"
      ]
     },
     "execution_count": 15,
     "metadata": {},
     "output_type": "execute_result"
    }
   ],
   "source": [
    "df.groupby(\"Invoice\").agg({\"TotalPrice\": \"sum\"})"
   ]
  },
  {
   "cell_type": "markdown",
   "id": "subject-argument",
   "metadata": {
    "papermill": {
     "duration": 0.054606,
     "end_time": "2021-07-07T13:05:06.848979",
     "exception": false,
     "start_time": "2021-07-07T13:05:06.794373",
     "status": "completed"
    },
    "tags": []
   },
   "source": [
    "# RFM metrics calculation \n",
    "### Recency   = Shows how many days have passed since the last invoice\n",
    "### Frequency = Count of how many times they buy\n",
    "### Monetary  = monetary value"
   ]
  },
  {
   "cell_type": "code",
   "execution_count": 16,
   "id": "practical-running",
   "metadata": {
    "execution": {
     "iopub.execute_input": "2021-07-07T13:05:06.966356Z",
     "iopub.status.busy": "2021-07-07T13:05:06.965561Z",
     "iopub.status.idle": "2021-07-07T13:05:08.675265Z",
     "shell.execute_reply": "2021-07-07T13:05:08.674577Z",
     "shell.execute_reply.started": "2021-07-07T13:00:42.165219Z"
    },
    "papermill": {
     "duration": 1.771962,
     "end_time": "2021-07-07T13:05:08.675410",
     "exception": false,
     "start_time": "2021-07-07T13:05:06.903448",
     "status": "completed"
    },
    "tags": []
   },
   "outputs": [],
   "source": [
    "\n",
    "today_date = dt.datetime(2011, 12, 11) \n",
    "\n",
    "rfm = df.groupby('Customer ID').agg({'InvoiceDate': lambda date: (today_date - date.max()).days,\n",
    "                                     'Invoice': lambda num: num.nunique(),\n",
    "                                     'TotalPrice': lambda total: total.sum()})\n",
    "\n",
    "rfm.columns = [\"Recency\", \"Frequency\", \"Monetary\"]\n",
    "rfm = rfm[rfm[\"Monetary\"] > 0]"
   ]
  },
  {
   "cell_type": "code",
   "execution_count": 17,
   "id": "answering-region",
   "metadata": {
    "execution": {
     "iopub.execute_input": "2021-07-07T13:05:08.792212Z",
     "iopub.status.busy": "2021-07-07T13:05:08.791414Z",
     "iopub.status.idle": "2021-07-07T13:05:08.812823Z",
     "shell.execute_reply": "2021-07-07T13:05:08.812255Z",
     "shell.execute_reply.started": "2021-07-07T13:00:43.981623Z"
    },
    "papermill": {
     "duration": 0.083383,
     "end_time": "2021-07-07T13:05:08.812979",
     "exception": false,
     "start_time": "2021-07-07T13:05:08.729596",
     "status": "completed"
    },
    "tags": []
   },
   "outputs": [],
   "source": [
    "# normalise the data from 1 to 5 \n",
    "rfm[\"recency_score\"] = pd.qcut(rfm[\"Recency\"], 5, labels=[5, 4, 3, 2, 1])\n",
    "\n",
    "rfm[\"frequency_score\"] = pd.qcut(rfm[\"Frequency\"].rank(method=\"first\"), 5, labels=[1, 2, 3, 4, 5])\n",
    "\n",
    "rfm[\"monetary_score\"] = pd.qcut(rfm[\"Monetary\"], 5, labels=[1, 2, 3, 4, 5])\n",
    "\n",
    "rfm[\"RFM_SCORE\"] = (rfm['recency_score'].astype(str) +\n",
    "                    rfm['frequency_score'].astype(str) +\n",
    "                    rfm['monetary_score'].astype(str)).astype(int)"
   ]
  },
  {
   "attachments": {
    "eb30b8ba-2ce1-485c-b99c-becad5dbb33d.png": {
     "image/png": "[encoded data removed]"
    }
   },
   "cell_type": "markdown",
   "id": "directed-concord",
   "metadata": {
    "papermill": {
     "duration": 0.05418,
     "end_time": "2021-07-07T13:05:08.922663",
     "exception": false,
     "start_time": "2021-07-07T13:05:08.868483",
     "status": "completed"
    },
    "tags": []
   },
   "source": [
    "![image.png](attachment:eb30b8ba-2ce1-485c-b99c-becad5dbb33d.png)   \n",
    "this photo shows us  the classification of RM (Recency nd Monetary) metrics\n"
   ]
  },
  {
   "cell_type": "code",
   "execution_count": 18,
   "id": "hindu-thomas",
   "metadata": {
    "execution": {
     "iopub.execute_input": "2021-07-07T13:05:09.039701Z",
     "iopub.status.busy": "2021-07-07T13:05:09.038855Z",
     "iopub.status.idle": "2021-07-07T13:05:09.041972Z",
     "shell.execute_reply": "2021-07-07T13:05:09.041373Z",
     "shell.execute_reply.started": "2021-07-07T13:00:44.009788Z"
    },
    "papermill": {
     "duration": 0.064258,
     "end_time": "2021-07-07T13:05:09.042119",
     "exception": false,
     "start_time": "2021-07-07T13:05:08.977861",
     "status": "completed"
    },
    "tags": []
   },
   "outputs": [],
   "source": [
    "# classification map\n",
    "seg_map = {\n",
    "    r'[1-2][1-2]': 'hibernating',\n",
    "    r'[1-2][3-4]': 'at_Risk',\n",
    "    r'[1-2]5': 'cant_loose',\n",
    "    r'3[1-2]': 'about_to_sleep',\n",
    "    r'33': 'need_attention',\n",
    "    r'[3-4][4-5]': 'loyal_customers',\n",
    "    r'41': 'promising',\n",
    "    r'51': 'new_customers',\n",
    "    r'[4-5][2-3]': 'potential_loyalists',\n",
    "    r'5[4-5]': 'champions'\n",
    "}"
   ]
  },
  {
   "cell_type": "code",
   "execution_count": 19,
   "id": "abandoned-remove",
   "metadata": {
    "execution": {
     "iopub.execute_input": "2021-07-07T13:05:09.156578Z",
     "iopub.status.busy": "2021-07-07T13:05:09.155865Z",
     "iopub.status.idle": "2021-07-07T13:05:09.250510Z",
     "shell.execute_reply": "2021-07-07T13:05:09.249900Z",
     "shell.execute_reply.started": "2021-07-07T13:00:44.017096Z"
    },
    "papermill": {
     "duration": 0.153894,
     "end_time": "2021-07-07T13:05:09.250677",
     "exception": false,
     "start_time": "2021-07-07T13:05:09.096783",
     "status": "completed"
    },
    "tags": []
   },
   "outputs": [],
   "source": [
    "\n",
    "rfm['segment'] = (rfm['recency_score'].astype(str) + rfm['frequency_score'].astype(str)).replace(seg_map, regex=True)"
   ]
  },
  {
   "cell_type": "code",
   "execution_count": 20,
   "id": "abroad-dream",
   "metadata": {
    "execution": {
     "iopub.execute_input": "2021-07-07T13:05:09.377037Z",
     "iopub.status.busy": "2021-07-07T13:05:09.376039Z",
     "iopub.status.idle": "2021-07-07T13:05:09.380935Z",
     "shell.execute_reply": "2021-07-07T13:05:09.380384Z",
     "shell.execute_reply.started": "2021-07-07T13:00:44.121460Z"
    },
    "papermill": {
     "duration": 0.075259,
     "end_time": "2021-07-07T13:05:09.381077",
     "exception": false,
     "start_time": "2021-07-07T13:05:09.305818",
     "status": "completed"
    },
    "tags": []
   },
   "outputs": [
    {
     "data": {
      "text/html": [
       "<div>\n",
       "<style scoped>\n",
       "    .dataframe tbody tr th:only-of-type {\n",
       "        vertical-align: middle;\n",
       "    }\n",
       "\n",
       "    .dataframe tbody tr th {\n",
       "        vertical-align: top;\n",
       "    }\n",
       "\n",
       "    .dataframe thead th {\n",
       "        text-align: right;\n",
       "    }\n",
       "</style>\n",
       "<table border=\"1\" class=\"dataframe\">\n",
       "  <thead>\n",
       "    <tr style=\"text-align: right;\">\n",
       "      <th></th>\n",
       "      <th>Recency</th>\n",
       "      <th>Frequency</th>\n",
       "      <th>Monetary</th>\n",
       "      <th>recency_score</th>\n",
       "      <th>frequency_score</th>\n",
       "      <th>monetary_score</th>\n",
       "      <th>RFM_SCORE</th>\n",
       "      <th>segment</th>\n",
       "    </tr>\n",
       "    <tr>\n",
       "      <th>Customer ID</th>\n",
       "      <th></th>\n",
       "      <th></th>\n",
       "      <th></th>\n",
       "      <th></th>\n",
       "      <th></th>\n",
       "      <th></th>\n",
       "      <th></th>\n",
       "      <th></th>\n",
       "    </tr>\n",
       "  </thead>\n",
       "  <tbody>\n",
       "    <tr>\n",
       "      <th>12346.0000</th>\n",
       "      <td>326</td>\n",
       "      <td>1</td>\n",
       "      <td>77183.6000</td>\n",
       "      <td>1</td>\n",
       "      <td>1</td>\n",
       "      <td>5</td>\n",
       "      <td>115</td>\n",
       "      <td>hibernating</td>\n",
       "    </tr>\n",
       "    <tr>\n",
       "      <th>12347.0000</th>\n",
       "      <td>3</td>\n",
       "      <td>7</td>\n",
       "      <td>4310.0000</td>\n",
       "      <td>5</td>\n",
       "      <td>5</td>\n",
       "      <td>5</td>\n",
       "      <td>555</td>\n",
       "      <td>champions</td>\n",
       "    </tr>\n",
       "    <tr>\n",
       "      <th>12348.0000</th>\n",
       "      <td>76</td>\n",
       "      <td>4</td>\n",
       "      <td>1797.2400</td>\n",
       "      <td>2</td>\n",
       "      <td>4</td>\n",
       "      <td>4</td>\n",
       "      <td>244</td>\n",
       "      <td>at_Risk</td>\n",
       "    </tr>\n",
       "    <tr>\n",
       "      <th>12349.0000</th>\n",
       "      <td>19</td>\n",
       "      <td>1</td>\n",
       "      <td>1757.5500</td>\n",
       "      <td>4</td>\n",
       "      <td>1</td>\n",
       "      <td>4</td>\n",
       "      <td>414</td>\n",
       "      <td>promising</td>\n",
       "    </tr>\n",
       "    <tr>\n",
       "      <th>12350.0000</th>\n",
       "      <td>311</td>\n",
       "      <td>1</td>\n",
       "      <td>334.4000</td>\n",
       "      <td>1</td>\n",
       "      <td>1</td>\n",
       "      <td>2</td>\n",
       "      <td>112</td>\n",
       "      <td>hibernating</td>\n",
       "    </tr>\n",
       "  </tbody>\n",
       "</table>\n",
       "</div>"
      ],
      "text/plain": [
       "             Recency  Frequency   Monetary recency_score frequency_score  \\\n",
       "Customer ID                                                                \n",
       "12346.0000       326          1 77183.6000             1               1   \n",
       "12347.0000         3          7  4310.0000             5               5   \n",
       "12348.0000        76          4  1797.2400             2               4   \n",
       "12349.0000        19          1  1757.5500             4               1   \n",
       "12350.0000       311          1   334.4000             1               1   \n",
       "\n",
       "            monetary_score  RFM_SCORE      segment  \n",
       "Customer ID                                         \n",
       "12346.0000               5        115  hibernating  \n",
       "12347.0000               5        555    champions  \n",
       "12348.0000               4        244      at_Risk  \n",
       "12349.0000               4        414    promising  \n",
       "12350.0000               2        112  hibernating  "
      ]
     },
     "execution_count": 20,
     "metadata": {},
     "output_type": "execute_result"
    }
   ],
   "source": [
    "rfm.head()"
   ]
  },
  {
   "cell_type": "code",
   "execution_count": 21,
   "id": "polyphonic-surname",
   "metadata": {
    "execution": {
     "iopub.execute_input": "2021-07-07T13:05:09.497548Z",
     "iopub.status.busy": "2021-07-07T13:05:09.496878Z",
     "iopub.status.idle": "2021-07-07T13:05:09.508351Z",
     "shell.execute_reply": "2021-07-07T13:05:09.507739Z",
     "shell.execute_reply.started": "2021-07-07T13:00:44.140806Z"
    },
    "papermill": {
     "duration": 0.072913,
     "end_time": "2021-07-07T13:05:09.508501",
     "exception": false,
     "start_time": "2021-07-07T13:05:09.435588",
     "status": "completed"
    },
    "tags": []
   },
   "outputs": [
    {
     "data": {
      "text/html": [
       "<div>\n",
       "<style scoped>\n",
       "    .dataframe tbody tr th:only-of-type {\n",
       "        vertical-align: middle;\n",
       "    }\n",
       "\n",
       "    .dataframe tbody tr th {\n",
       "        vertical-align: top;\n",
       "    }\n",
       "\n",
       "    .dataframe thead th {\n",
       "        text-align: right;\n",
       "    }\n",
       "</style>\n",
       "<table border=\"1\" class=\"dataframe\">\n",
       "  <thead>\n",
       "    <tr style=\"text-align: right;\">\n",
       "      <th></th>\n",
       "      <th>RFM_SCORE</th>\n",
       "    </tr>\n",
       "    <tr>\n",
       "      <th>segment</th>\n",
       "      <th></th>\n",
       "    </tr>\n",
       "  </thead>\n",
       "  <tbody>\n",
       "    <tr>\n",
       "      <th>champions</th>\n",
       "      <td>551.3949</td>\n",
       "    </tr>\n",
       "    <tr>\n",
       "      <th>new_customers</th>\n",
       "      <td>511.7143</td>\n",
       "    </tr>\n",
       "    <tr>\n",
       "      <th>potential_loyalists</th>\n",
       "      <td>468.8450</td>\n",
       "    </tr>\n",
       "    <tr>\n",
       "      <th>promising</th>\n",
       "      <td>411.5851</td>\n",
       "    </tr>\n",
       "    <tr>\n",
       "      <th>loyal_customers</th>\n",
       "      <td>409.0525</td>\n",
       "    </tr>\n",
       "    <tr>\n",
       "      <th>need_attention</th>\n",
       "      <td>332.8770</td>\n",
       "    </tr>\n",
       "    <tr>\n",
       "      <th>about_to_sleep</th>\n",
       "      <td>317.2926</td>\n",
       "    </tr>\n",
       "    <tr>\n",
       "      <th>cant_loose</th>\n",
       "      <td>236.8413</td>\n",
       "    </tr>\n",
       "    <tr>\n",
       "      <th>at_Risk</th>\n",
       "      <td>205.0287</td>\n",
       "    </tr>\n",
       "    <tr>\n",
       "      <th>hibernating</th>\n",
       "      <td>154.7778</td>\n",
       "    </tr>\n",
       "  </tbody>\n",
       "</table>\n",
       "</div>"
      ],
      "text/plain": [
       "                     RFM_SCORE\n",
       "segment                       \n",
       "champions             551.3949\n",
       "new_customers         511.7143\n",
       "potential_loyalists   468.8450\n",
       "promising             411.5851\n",
       "loyal_customers       409.0525\n",
       "need_attention        332.8770\n",
       "about_to_sleep        317.2926\n",
       "cant_loose            236.8413\n",
       "at_Risk               205.0287\n",
       "hibernating           154.7778"
      ]
     },
     "execution_count": 21,
     "metadata": {},
     "output_type": "execute_result"
    }
   ],
   "source": [
    "rfm.groupby([\"segment\"]).agg({\"RFM_SCORE\": \"mean\"}).sort_values(by=\"RFM_SCORE\", ascending=False)"
   ]
  },
  {
   "cell_type": "markdown",
   "id": "professional-jaguar",
   "metadata": {
    "papermill": {
     "duration": 0.057218,
     "end_time": "2021-07-07T13:05:09.623198",
     "exception": false,
     "start_time": "2021-07-07T13:05:09.565980",
     "status": "completed"
    },
    "tags": []
   },
   "source": [
    "# CLTV"
   ]
  },
  {
   "cell_type": "code",
   "execution_count": 22,
   "id": "entire-software",
   "metadata": {
    "execution": {
     "iopub.execute_input": "2021-07-07T13:05:09.753154Z",
     "iopub.status.busy": "2021-07-07T13:05:09.744615Z",
     "iopub.status.idle": "2021-07-07T13:05:16.642266Z",
     "shell.execute_reply": "2021-07-07T13:05:16.641579Z",
     "shell.execute_reply.started": "2021-07-07T13:00:44.170634Z"
    },
    "papermill": {
     "duration": 6.959646,
     "end_time": "2021-07-07T13:05:16.642408",
     "exception": false,
     "start_time": "2021-07-07T13:05:09.682762",
     "status": "completed"
    },
    "tags": []
   },
   "outputs": [
    {
     "name": "stdout",
     "output_type": "stream",
     "text": [
      "Collecting lifetimes\r\n",
      "  Downloading Lifetimes-0.11.3-py3-none-any.whl (584 kB)\r\n",
      "\u001b[K     |████████████████████████████████| 584 kB 5.9 MB/s \r\n",
      "\u001b[?25hRequirement already satisfied: numpy>=1.10.0 in /opt/conda/lib/python3.7/site-packages (from lifetimes) (1.19.5)\r\n",
      "Requirement already satisfied: pandas>=0.24.0 in /opt/conda/lib/python3.7/site-packages (from lifetimes) (1.2.2)\r\n",
      "Requirement already satisfied: autograd>=1.2.0 in /opt/conda/lib/python3.7/site-packages (from lifetimes) (1.3)\r\n",
      "Requirement already satisfied: scipy>=1.0.0 in /opt/conda/lib/python3.7/site-packages (from lifetimes) (1.5.4)\r\n",
      "Requirement already satisfied: dill>=0.2.6 in /opt/conda/lib/python3.7/site-packages (from lifetimes) (0.3.3)\r\n",
      "Requirement already satisfied: future>=0.15.2 in /opt/conda/lib/python3.7/site-packages (from autograd>=1.2.0->lifetimes) (0.18.2)\r\n",
      "Requirement already satisfied: python-dateutil>=2.7.3 in /opt/conda/lib/python3.7/site-packages (from pandas>=0.24.0->lifetimes) (2.8.1)\r\n",
      "Requirement already satisfied: pytz>=2017.3 in /opt/conda/lib/python3.7/site-packages (from pandas>=0.24.0->lifetimes) (2021.1)\r\n",
      "Requirement already satisfied: six>=1.5 in /opt/conda/lib/python3.7/site-packages (from python-dateutil>=2.7.3->pandas>=0.24.0->lifetimes) (1.15.0)\r\n",
      "Installing collected packages: lifetimes\r\n",
      "Successfully installed lifetimes-0.11.3\r\n",
      "Note: you may need to restart the kernel to use updated packages.\n"
     ]
    }
   ],
   "source": [
    " pip install lifetimes\n"
   ]
  },
  {
   "cell_type": "code",
   "execution_count": 23,
   "id": "electrical-raising",
   "metadata": {
    "execution": {
     "iopub.execute_input": "2021-07-07T13:05:16.764476Z",
     "iopub.status.busy": "2021-07-07T13:05:16.763504Z",
     "iopub.status.idle": "2021-07-07T13:05:18.022219Z",
     "shell.execute_reply": "2021-07-07T13:05:18.020625Z",
     "shell.execute_reply.started": "2021-07-07T13:00:50.859830Z"
    },
    "papermill": {
     "duration": 1.321973,
     "end_time": "2021-07-07T13:05:18.022381",
     "exception": false,
     "start_time": "2021-07-07T13:05:16.700408",
     "status": "completed"
    },
    "tags": []
   },
   "outputs": [],
   "source": [
    "from lifetimes import BetaGeoFitter\n",
    "from lifetimes import GammaGammaFitter\n",
    "from sklearn.preprocessing import MinMaxScaler"
   ]
  },
  {
   "cell_type": "code",
   "execution_count": 24,
   "id": "invisible-tongue",
   "metadata": {
    "execution": {
     "iopub.execute_input": "2021-07-07T13:05:18.144611Z",
     "iopub.status.busy": "2021-07-07T13:05:18.143957Z",
     "iopub.status.idle": "2021-07-07T13:05:18.190927Z",
     "shell.execute_reply": "2021-07-07T13:05:18.190367Z",
     "shell.execute_reply.started": "2021-07-07T13:00:50.867011Z"
    },
    "papermill": {
     "duration": 0.109869,
     "end_time": "2021-07-07T13:05:18.191092",
     "exception": false,
     "start_time": "2021-07-07T13:05:18.081223",
     "status": "completed"
    },
    "tags": []
   },
   "outputs": [],
   "source": [
    "df = df_.copy()"
   ]
  },
  {
   "cell_type": "code",
   "execution_count": 25,
   "id": "professional-polymer",
   "metadata": {
    "execution": {
     "iopub.execute_input": "2021-07-07T13:05:18.341628Z",
     "iopub.status.busy": "2021-07-07T13:05:18.340959Z",
     "iopub.status.idle": "2021-07-07T13:05:18.357904Z",
     "shell.execute_reply": "2021-07-07T13:05:18.358448Z",
     "shell.execute_reply.started": "2021-07-07T13:00:50.941692Z"
    },
    "papermill": {
     "duration": 0.109811,
     "end_time": "2021-07-07T13:05:18.358624",
     "exception": false,
     "start_time": "2021-07-07T13:05:18.248813",
     "status": "completed"
    },
    "tags": []
   },
   "outputs": [
    {
     "data": {
      "text/plain": [
       "array(['United Kingdom', 'France', 'Australia', 'Netherlands', 'Germany',\n",
       "       'Norway', 'EIRE', 'Switzerland', 'Spain', 'Poland', 'Portugal',\n",
       "       'Italy', 'Belgium', 'Lithuania', 'Japan', 'Iceland',\n",
       "       'Channel Islands', 'Denmark', 'Cyprus', 'Sweden', 'Austria',\n",
       "       'Israel', 'Finland', 'Bahrain', 'Greece', 'Hong Kong', 'Singapore',\n",
       "       'Lebanon', 'United Arab Emirates', 'Saudi Arabia',\n",
       "       'Czech Republic', 'Canada', 'Unspecified', 'Brazil', 'USA',\n",
       "       'European Community', 'Malta', 'RSA'], dtype=object)"
      ]
     },
     "execution_count": 25,
     "metadata": {},
     "output_type": "execute_result"
    }
   ],
   "source": [
    "\n",
    "df[\"Country\"].unique()"
   ]
  },
  {
   "cell_type": "code",
   "execution_count": 26,
   "id": "fancy-advice",
   "metadata": {
    "execution": {
     "iopub.execute_input": "2021-07-07T13:05:18.490818Z",
     "iopub.status.busy": "2021-07-07T13:05:18.490123Z",
     "iopub.status.idle": "2021-07-07T13:05:18.554000Z",
     "shell.execute_reply": "2021-07-07T13:05:18.554455Z",
     "shell.execute_reply.started": "2021-07-07T13:00:50.992834Z"
    },
    "papermill": {
     "duration": 0.136519,
     "end_time": "2021-07-07T13:05:18.554630",
     "exception": false,
     "start_time": "2021-07-07T13:05:18.418111",
     "status": "completed"
    },
    "tags": []
   },
   "outputs": [
    {
     "data": {
      "text/html": [
       "<div>\n",
       "<style scoped>\n",
       "    .dataframe tbody tr th:only-of-type {\n",
       "        vertical-align: middle;\n",
       "    }\n",
       "\n",
       "    .dataframe tbody tr th {\n",
       "        vertical-align: top;\n",
       "    }\n",
       "\n",
       "    .dataframe thead th {\n",
       "        text-align: right;\n",
       "    }\n",
       "</style>\n",
       "<table border=\"1\" class=\"dataframe\">\n",
       "  <thead>\n",
       "    <tr style=\"text-align: right;\">\n",
       "      <th></th>\n",
       "      <th>count</th>\n",
       "      <th>mean</th>\n",
       "      <th>std</th>\n",
       "      <th>min</th>\n",
       "      <th>25%</th>\n",
       "      <th>50%</th>\n",
       "      <th>75%</th>\n",
       "      <th>max</th>\n",
       "    </tr>\n",
       "  </thead>\n",
       "  <tbody>\n",
       "    <tr>\n",
       "      <th>Quantity</th>\n",
       "      <td>541910.0000</td>\n",
       "      <td>9.5522</td>\n",
       "      <td>218.0810</td>\n",
       "      <td>-80995.0000</td>\n",
       "      <td>1.0000</td>\n",
       "      <td>3.0000</td>\n",
       "      <td>10.0000</td>\n",
       "      <td>80995.0000</td>\n",
       "    </tr>\n",
       "    <tr>\n",
       "      <th>Price</th>\n",
       "      <td>541910.0000</td>\n",
       "      <td>4.6111</td>\n",
       "      <td>96.7598</td>\n",
       "      <td>-11062.0600</td>\n",
       "      <td>1.2500</td>\n",
       "      <td>2.0800</td>\n",
       "      <td>4.1300</td>\n",
       "      <td>38970.0000</td>\n",
       "    </tr>\n",
       "    <tr>\n",
       "      <th>Customer ID</th>\n",
       "      <td>406830.0000</td>\n",
       "      <td>15287.6842</td>\n",
       "      <td>1713.6031</td>\n",
       "      <td>12346.0000</td>\n",
       "      <td>13953.0000</td>\n",
       "      <td>15152.0000</td>\n",
       "      <td>16791.0000</td>\n",
       "      <td>18287.0000</td>\n",
       "    </tr>\n",
       "  </tbody>\n",
       "</table>\n",
       "</div>"
      ],
      "text/plain": [
       "                  count       mean       std         min        25%  \\\n",
       "Quantity    541910.0000     9.5522  218.0810 -80995.0000     1.0000   \n",
       "Price       541910.0000     4.6111   96.7598 -11062.0600     1.2500   \n",
       "Customer ID 406830.0000 15287.6842 1713.6031  12346.0000 13953.0000   \n",
       "\n",
       "                   50%        75%        max  \n",
       "Quantity        3.0000    10.0000 80995.0000  \n",
       "Price           2.0800     4.1300 38970.0000  \n",
       "Customer ID 15152.0000 16791.0000 18287.0000  "
      ]
     },
     "execution_count": 26,
     "metadata": {},
     "output_type": "execute_result"
    }
   ],
   "source": [
    "df.describe().T"
   ]
  },
  {
   "cell_type": "code",
   "execution_count": 27,
   "id": "handy-crazy",
   "metadata": {
    "execution": {
     "iopub.execute_input": "2021-07-07T13:05:18.675231Z",
     "iopub.status.busy": "2021-07-07T13:05:18.674517Z",
     "iopub.status.idle": "2021-07-07T13:05:18.897618Z",
     "shell.execute_reply": "2021-07-07T13:05:18.898156Z",
     "shell.execute_reply.started": "2021-07-07T13:00:51.071720Z"
    },
    "papermill": {
     "duration": 0.284842,
     "end_time": "2021-07-07T13:05:18.898330",
     "exception": false,
     "start_time": "2021-07-07T13:05:18.613488",
     "status": "completed"
    },
    "tags": []
   },
   "outputs": [
    {
     "data": {
      "text/plain": [
       "Invoice             0\n",
       "StockCode           0\n",
       "Description      1454\n",
       "Quantity            0\n",
       "InvoiceDate         0\n",
       "Price               0\n",
       "Customer ID    135080\n",
       "Country             0\n",
       "dtype: int64"
      ]
     },
     "execution_count": 27,
     "metadata": {},
     "output_type": "execute_result"
    }
   ],
   "source": [
    "df.isnull().sum()"
   ]
  },
  {
   "cell_type": "code",
   "execution_count": 28,
   "id": "outstanding-window",
   "metadata": {
    "execution": {
     "iopub.execute_input": "2021-07-07T13:05:19.020725Z",
     "iopub.status.busy": "2021-07-07T13:05:19.019998Z",
     "iopub.status.idle": "2021-07-07T13:05:19.281785Z",
     "shell.execute_reply": "2021-07-07T13:05:19.281116Z",
     "shell.execute_reply.started": "2021-07-07T13:00:51.301182Z"
    },
    "papermill": {
     "duration": 0.32447,
     "end_time": "2021-07-07T13:05:19.281940",
     "exception": false,
     "start_time": "2021-07-07T13:05:18.957470",
     "status": "completed"
    },
    "tags": []
   },
   "outputs": [],
   "source": [
    "df.dropna(inplace=True)"
   ]
  },
  {
   "cell_type": "code",
   "execution_count": 29,
   "id": "nervous-wireless",
   "metadata": {
    "execution": {
     "iopub.execute_input": "2021-07-07T13:05:19.445921Z",
     "iopub.status.busy": "2021-07-07T13:05:19.445221Z",
     "iopub.status.idle": "2021-07-07T13:05:20.110051Z",
     "shell.execute_reply": "2021-07-07T13:05:20.109476Z",
     "shell.execute_reply.started": "2021-07-07T13:00:51.568435Z"
    },
    "papermill": {
     "duration": 0.769294,
     "end_time": "2021-07-07T13:05:20.110224",
     "exception": false,
     "start_time": "2021-07-07T13:05:19.340930",
     "status": "completed"
    },
    "tags": []
   },
   "outputs": [],
   "source": [
    "df = df[~df[\"Invoice\"].str.contains(\"C\", na=False)]  "
   ]
  },
  {
   "cell_type": "code",
   "execution_count": 30,
   "id": "modern-addition",
   "metadata": {
    "execution": {
     "iopub.execute_input": "2021-07-07T13:05:20.237458Z",
     "iopub.status.busy": "2021-07-07T13:05:20.236573Z",
     "iopub.status.idle": "2021-07-07T13:05:20.240536Z",
     "shell.execute_reply": "2021-07-07T13:05:20.239931Z",
     "shell.execute_reply.started": "2021-07-07T13:00:52.275876Z"
    },
    "papermill": {
     "duration": 0.07068,
     "end_time": "2021-07-07T13:05:20.240689",
     "exception": false,
     "start_time": "2021-07-07T13:05:20.170009",
     "status": "completed"
    },
    "tags": []
   },
   "outputs": [],
   "source": [
    "\n",
    "\n",
    "df[\"TotalPrice\"] = df[\"Quantity\"] * df[\"Price\"]\n"
   ]
  },
  {
   "cell_type": "code",
   "execution_count": 31,
   "id": "powerful-change",
   "metadata": {
    "execution": {
     "iopub.execute_input": "2021-07-07T13:05:20.364220Z",
     "iopub.status.busy": "2021-07-07T13:05:20.363449Z",
     "iopub.status.idle": "2021-07-07T13:05:20.366677Z",
     "shell.execute_reply": "2021-07-07T13:05:20.366033Z",
     "shell.execute_reply.started": "2021-07-07T13:00:52.285131Z"
    },
    "papermill": {
     "duration": 0.066777,
     "end_time": "2021-07-07T13:05:20.366827",
     "exception": false,
     "start_time": "2021-07-07T13:05:20.300050",
     "status": "completed"
    },
    "tags": []
   },
   "outputs": [],
   "source": [
    "today_date = dt.datetime(2011, 12, 11)"
   ]
  },
  {
   "cell_type": "code",
   "execution_count": 32,
   "id": "technological-positive",
   "metadata": {
    "execution": {
     "iopub.execute_input": "2021-07-07T13:05:20.492947Z",
     "iopub.status.busy": "2021-07-07T13:05:20.492276Z",
     "iopub.status.idle": "2021-07-07T13:05:23.046716Z",
     "shell.execute_reply": "2021-07-07T13:05:23.046014Z",
     "shell.execute_reply.started": "2021-07-07T13:00:52.299509Z"
    },
    "papermill": {
     "duration": 2.621236,
     "end_time": "2021-07-07T13:05:23.046857",
     "exception": false,
     "start_time": "2021-07-07T13:05:20.425621",
     "status": "completed"
    },
    "tags": []
   },
   "outputs": [],
   "source": [
    "# the difference from FRM to CLTV is we also checking the custom life value with first invoice to last invoice)\n",
    "cltv_df = df.groupby('Customer ID').agg({'InvoiceDate': [lambda date: (date.max() - date.min()).days,\n",
    "                                                         lambda date: (today_date - date.min()).days],\n",
    "                                         'Invoice': lambda num: num.nunique(),\n",
    "                                         'TotalPrice': lambda TotalPrice: TotalPrice.sum()})\n"
   ]
  },
  {
   "cell_type": "code",
   "execution_count": 33,
   "id": "effective-learning",
   "metadata": {
    "execution": {
     "iopub.execute_input": "2021-07-07T13:05:23.171175Z",
     "iopub.status.busy": "2021-07-07T13:05:23.170390Z",
     "iopub.status.idle": "2021-07-07T13:05:23.173131Z",
     "shell.execute_reply": "2021-07-07T13:05:23.172654Z",
     "shell.execute_reply.started": "2021-07-07T13:00:54.842086Z"
    },
    "papermill": {
     "duration": 0.066848,
     "end_time": "2021-07-07T13:05:23.173279",
     "exception": false,
     "start_time": "2021-07-07T13:05:23.106431",
     "status": "completed"
    },
    "tags": []
   },
   "outputs": [],
   "source": [
    "cltv_df.columns = ['recency', 'T', 'frequency', 'monetary']\n"
   ]
  },
  {
   "cell_type": "code",
   "execution_count": 34,
   "id": "interracial-comment",
   "metadata": {
    "execution": {
     "iopub.execute_input": "2021-07-07T13:05:23.300994Z",
     "iopub.status.busy": "2021-07-07T13:05:23.299965Z",
     "iopub.status.idle": "2021-07-07T13:05:23.304674Z",
     "shell.execute_reply": "2021-07-07T13:05:23.304015Z",
     "shell.execute_reply.started": "2021-07-07T13:00:54.849613Z"
    },
    "papermill": {
     "duration": 0.072913,
     "end_time": "2021-07-07T13:05:23.304814",
     "exception": false,
     "start_time": "2021-07-07T13:05:23.231901",
     "status": "completed"
    },
    "tags": []
   },
   "outputs": [
    {
     "data": {
      "text/html": [
       "<div>\n",
       "<style scoped>\n",
       "    .dataframe tbody tr th:only-of-type {\n",
       "        vertical-align: middle;\n",
       "    }\n",
       "\n",
       "    .dataframe tbody tr th {\n",
       "        vertical-align: top;\n",
       "    }\n",
       "\n",
       "    .dataframe thead th {\n",
       "        text-align: right;\n",
       "    }\n",
       "</style>\n",
       "<table border=\"1\" class=\"dataframe\">\n",
       "  <thead>\n",
       "    <tr style=\"text-align: right;\">\n",
       "      <th></th>\n",
       "      <th>recency</th>\n",
       "      <th>T</th>\n",
       "      <th>frequency</th>\n",
       "      <th>monetary</th>\n",
       "    </tr>\n",
       "    <tr>\n",
       "      <th>Customer ID</th>\n",
       "      <th></th>\n",
       "      <th></th>\n",
       "      <th></th>\n",
       "      <th></th>\n",
       "    </tr>\n",
       "  </thead>\n",
       "  <tbody>\n",
       "    <tr>\n",
       "      <th>12346.0000</th>\n",
       "      <td>0</td>\n",
       "      <td>326</td>\n",
       "      <td>1</td>\n",
       "      <td>77183.6000</td>\n",
       "    </tr>\n",
       "    <tr>\n",
       "      <th>12347.0000</th>\n",
       "      <td>365</td>\n",
       "      <td>368</td>\n",
       "      <td>7</td>\n",
       "      <td>4310.0000</td>\n",
       "    </tr>\n",
       "    <tr>\n",
       "      <th>12348.0000</th>\n",
       "      <td>282</td>\n",
       "      <td>359</td>\n",
       "      <td>4</td>\n",
       "      <td>1797.2400</td>\n",
       "    </tr>\n",
       "    <tr>\n",
       "      <th>12349.0000</th>\n",
       "      <td>0</td>\n",
       "      <td>19</td>\n",
       "      <td>1</td>\n",
       "      <td>1757.5500</td>\n",
       "    </tr>\n",
       "    <tr>\n",
       "      <th>12350.0000</th>\n",
       "      <td>0</td>\n",
       "      <td>311</td>\n",
       "      <td>1</td>\n",
       "      <td>334.4000</td>\n",
       "    </tr>\n",
       "  </tbody>\n",
       "</table>\n",
       "</div>"
      ],
      "text/plain": [
       "             recency    T  frequency   monetary\n",
       "Customer ID                                    \n",
       "12346.0000         0  326          1 77183.6000\n",
       "12347.0000       365  368          7  4310.0000\n",
       "12348.0000       282  359          4  1797.2400\n",
       "12349.0000         0   19          1  1757.5500\n",
       "12350.0000         0  311          1   334.4000"
      ]
     },
     "execution_count": 34,
     "metadata": {},
     "output_type": "execute_result"
    }
   ],
   "source": [
    "cltv_df.head()"
   ]
  },
  {
   "cell_type": "code",
   "execution_count": 35,
   "id": "harmful-superintendent",
   "metadata": {
    "execution": {
     "iopub.execute_input": "2021-07-07T13:05:23.431050Z",
     "iopub.status.busy": "2021-07-07T13:05:23.430099Z",
     "iopub.status.idle": "2021-07-07T13:05:23.433679Z",
     "shell.execute_reply": "2021-07-07T13:05:23.433033Z",
     "shell.execute_reply.started": "2021-07-07T13:00:54.871483Z"
    },
    "papermill": {
     "duration": 0.068774,
     "end_time": "2021-07-07T13:05:23.433822",
     "exception": false,
     "start_time": "2021-07-07T13:05:23.365048",
     "status": "completed"
    },
    "tags": []
   },
   "outputs": [],
   "source": [
    "cltv_df[\"monetary\"] = cltv_df[\"monetary\"] / cltv_df[\"frequency\"]"
   ]
  },
  {
   "cell_type": "code",
   "execution_count": 36,
   "id": "downtown-scout",
   "metadata": {
    "execution": {
     "iopub.execute_input": "2021-07-07T13:05:23.559083Z",
     "iopub.status.busy": "2021-07-07T13:05:23.558152Z",
     "iopub.status.idle": "2021-07-07T13:05:23.562322Z",
     "shell.execute_reply": "2021-07-07T13:05:23.561703Z",
     "shell.execute_reply.started": "2021-07-07T13:00:54.880220Z"
    },
    "papermill": {
     "duration": 0.068999,
     "end_time": "2021-07-07T13:05:23.562459",
     "exception": false,
     "start_time": "2021-07-07T13:05:23.493460",
     "status": "completed"
    },
    "tags": []
   },
   "outputs": [],
   "source": [
    "cltv_df = cltv_df[cltv_df[\"monetary\"] > 0]"
   ]
  },
  {
   "cell_type": "code",
   "execution_count": 37,
   "id": "interpreted-judges",
   "metadata": {
    "execution": {
     "iopub.execute_input": "2021-07-07T13:05:23.688491Z",
     "iopub.status.busy": "2021-07-07T13:05:23.685952Z",
     "iopub.status.idle": "2021-07-07T13:05:23.691860Z",
     "shell.execute_reply": "2021-07-07T13:05:23.691167Z",
     "shell.execute_reply.started": "2021-07-07T13:00:54.894751Z"
    },
    "papermill": {
     "duration": 0.070209,
     "end_time": "2021-07-07T13:05:23.692005",
     "exception": false,
     "start_time": "2021-07-07T13:05:23.621796",
     "status": "completed"
    },
    "tags": []
   },
   "outputs": [],
   "source": [
    "# Expression of recency and T for BGNBD in weekly terms\n",
    "cltv_df[\"recency\"] = cltv_df[\"recency\"] / 7\n",
    "cltv_df[\"T\"] = cltv_df[\"T\"] / 7"
   ]
  },
  {
   "cell_type": "code",
   "execution_count": 38,
   "id": "pressing-graph",
   "metadata": {
    "execution": {
     "iopub.execute_input": "2021-07-07T13:05:23.816616Z",
     "iopub.status.busy": "2021-07-07T13:05:23.815955Z",
     "iopub.status.idle": "2021-07-07T13:05:23.820016Z",
     "shell.execute_reply": "2021-07-07T13:05:23.820592Z",
     "shell.execute_reply.started": "2021-07-07T13:00:54.909218Z"
    },
    "papermill": {
     "duration": 0.069003,
     "end_time": "2021-07-07T13:05:23.820780",
     "exception": false,
     "start_time": "2021-07-07T13:05:23.751777",
     "status": "completed"
    },
    "tags": []
   },
   "outputs": [],
   "source": [
    "# frequency must be bigger then 1 \n",
    "cltv_df = cltv_df[(cltv_df['frequency'] > 1)]"
   ]
  },
  {
   "cell_type": "markdown",
   "id": "burning-fraud",
   "metadata": {
    "papermill": {
     "duration": 0.060054,
     "end_time": "2021-07-07T13:05:23.941393",
     "exception": false,
     "start_time": "2021-07-07T13:05:23.881339",
     "status": "completed"
    },
    "tags": []
   },
   "source": [
    "#### Establishment of BG-NBD Model"
   ]
  },
  {
   "cell_type": "code",
   "execution_count": 39,
   "id": "affiliated-manufacturer",
   "metadata": {
    "execution": {
     "iopub.execute_input": "2021-07-07T13:05:24.067391Z",
     "iopub.status.busy": "2021-07-07T13:05:24.066451Z",
     "iopub.status.idle": "2021-07-07T13:05:24.238855Z",
     "shell.execute_reply": "2021-07-07T13:05:24.239787Z",
     "shell.execute_reply.started": "2021-07-07T13:00:54.923988Z"
    },
    "papermill": {
     "duration": 0.23911,
     "end_time": "2021-07-07T13:05:24.240042",
     "exception": false,
     "start_time": "2021-07-07T13:05:24.000932",
     "status": "completed"
    },
    "tags": []
   },
   "outputs": [
    {
     "data": {
      "text/plain": [
       "<lifetimes.BetaGeoFitter: fitted with 2845 subjects, a: 0.12, alpha: 11.40, b: 2.49, r: 2.18>"
      ]
     },
     "execution_count": 39,
     "metadata": {},
     "output_type": "execute_result"
    }
   ],
   "source": [
    "\n",
    "bgf = BetaGeoFitter(penalizer_coef=0.001)\n",
    "\n",
    "bgf.fit(cltv_df['frequency'],\n",
    "        cltv_df['recency'],\n",
    "        cltv_df['T'])"
   ]
  },
  {
   "cell_type": "markdown",
   "id": "another-feedback",
   "metadata": {
    "papermill": {
     "duration": 0.059885,
     "end_time": "2021-07-07T13:05:24.403964",
     "exception": false,
     "start_time": "2021-07-07T13:05:24.344079",
     "status": "completed"
    },
    "tags": []
   },
   "source": [
    "#### Establishment of GAMMA- GAMMA Model"
   ]
  },
  {
   "cell_type": "code",
   "execution_count": 40,
   "id": "concerned-picnic",
   "metadata": {
    "execution": {
     "iopub.execute_input": "2021-07-07T13:05:24.531121Z",
     "iopub.status.busy": "2021-07-07T13:05:24.530431Z",
     "iopub.status.idle": "2021-07-07T13:05:24.607671Z",
     "shell.execute_reply": "2021-07-07T13:05:24.606751Z",
     "shell.execute_reply.started": "2021-07-07T13:00:55.119403Z"
    },
    "papermill": {
     "duration": 0.144041,
     "end_time": "2021-07-07T13:05:24.607890",
     "exception": false,
     "start_time": "2021-07-07T13:05:24.463849",
     "status": "completed"
    },
    "tags": []
   },
   "outputs": [
    {
     "data": {
      "text/plain": [
       "<lifetimes.GammaGammaFitter: fitted with 2845 subjects, p: 3.79, q: 0.34, v: 3.72>"
      ]
     },
     "execution_count": 40,
     "metadata": {},
     "output_type": "execute_result"
    }
   ],
   "source": [
    "\n",
    "ggf = GammaGammaFitter(penalizer_coef=0.01)\n",
    "ggf.fit(cltv_df['frequency'], cltv_df['monetary'])\n"
   ]
  },
  {
   "cell_type": "markdown",
   "id": "removed-malawi",
   "metadata": {
    "papermill": {
     "duration": 0.071727,
     "end_time": "2021-07-07T13:05:24.783077",
     "exception": false,
     "start_time": "2021-07-07T13:05:24.711350",
     "status": "completed"
    },
    "tags": []
   },
   "source": [
    "#### Calculation of CLTV with BG-NBD and GG model."
   ]
  },
  {
   "cell_type": "code",
   "execution_count": 41,
   "id": "adapted-printing",
   "metadata": {
    "execution": {
     "iopub.execute_input": "2021-07-07T13:05:24.923379Z",
     "iopub.status.busy": "2021-07-07T13:05:24.922721Z",
     "iopub.status.idle": "2021-07-07T13:05:25.048529Z",
     "shell.execute_reply": "2021-07-07T13:05:25.047996Z",
     "shell.execute_reply.started": "2021-07-07T13:00:55.258069Z"
    },
    "papermill": {
     "duration": 0.196118,
     "end_time": "2021-07-07T13:05:25.048703",
     "exception": false,
     "start_time": "2021-07-07T13:05:24.852585",
     "status": "completed"
    },
    "tags": []
   },
   "outputs": [],
   "source": [
    "\n",
    "cltv = ggf.customer_lifetime_value(bgf,\n",
    "                                   cltv_df['frequency'],\n",
    "                                   cltv_df['recency'],\n",
    "                                   cltv_df['T'],\n",
    "                                   cltv_df['monetary'],\n",
    "                                   time=6,  # for 6 months\n",
    "                                   freq=\"W\",  \n",
    "                                   discount_rate=0.01)\n"
   ]
  },
  {
   "cell_type": "code",
   "execution_count": 42,
   "id": "theoretical-wales",
   "metadata": {
    "execution": {
     "iopub.execute_input": "2021-07-07T13:05:25.175586Z",
     "iopub.status.busy": "2021-07-07T13:05:25.174669Z",
     "iopub.status.idle": "2021-07-07T13:05:25.178328Z",
     "shell.execute_reply": "2021-07-07T13:05:25.178825Z",
     "shell.execute_reply.started": "2021-07-07T13:00:55.462694Z"
    },
    "papermill": {
     "duration": 0.069473,
     "end_time": "2021-07-07T13:05:25.178991",
     "exception": false,
     "start_time": "2021-07-07T13:05:25.109518",
     "status": "completed"
    },
    "tags": []
   },
   "outputs": [
    {
     "data": {
      "text/plain": [
       "Customer ID\n",
       "12347.0000   2201.1330\n",
       "12348.0000   1066.3371\n",
       "12352.0000   1437.1981\n",
       "12356.0000   2110.4305\n",
       "12358.0000   1900.3552\n",
       "Name: clv, dtype: float64"
      ]
     },
     "execution_count": 42,
     "metadata": {},
     "output_type": "execute_result"
    }
   ],
   "source": [
    "cltv.head()\n"
   ]
  },
  {
   "cell_type": "code",
   "execution_count": 43,
   "id": "continued-peninsula",
   "metadata": {
    "execution": {
     "iopub.execute_input": "2021-07-07T13:05:25.302923Z",
     "iopub.status.busy": "2021-07-07T13:05:25.301969Z",
     "iopub.status.idle": "2021-07-07T13:05:25.317007Z",
     "shell.execute_reply": "2021-07-07T13:05:25.317529Z",
     "shell.execute_reply.started": "2021-07-07T13:00:55.473155Z"
    },
    "papermill": {
     "duration": 0.078537,
     "end_time": "2021-07-07T13:05:25.317724",
     "exception": false,
     "start_time": "2021-07-07T13:05:25.239187",
     "status": "completed"
    },
    "tags": []
   },
   "outputs": [],
   "source": [
    "\n",
    "cltv = cltv.reset_index()\n",
    "cltv.columns = [\"Customer ID\", \"clv\"]\n",
    "cltv.sort_values(by=\"clv\", ascending=False).head(50)\n",
    "cltv_final = cltv_df.merge(cltv, on=\"Customer ID\", how=\"left\")"
   ]
  },
  {
   "cell_type": "code",
   "execution_count": 44,
   "id": "brief-district",
   "metadata": {
    "execution": {
     "iopub.execute_input": "2021-07-07T13:05:25.443875Z",
     "iopub.status.busy": "2021-07-07T13:05:25.443193Z",
     "iopub.status.idle": "2021-07-07T13:05:25.454043Z",
     "shell.execute_reply": "2021-07-07T13:05:25.454608Z",
     "shell.execute_reply.started": "2021-07-07T13:00:55.493958Z"
    },
    "papermill": {
     "duration": 0.076719,
     "end_time": "2021-07-07T13:05:25.454794",
     "exception": false,
     "start_time": "2021-07-07T13:05:25.378075",
     "status": "completed"
    },
    "tags": []
   },
   "outputs": [
    {
     "data": {
      "text/html": [
       "<div>\n",
       "<style scoped>\n",
       "    .dataframe tbody tr th:only-of-type {\n",
       "        vertical-align: middle;\n",
       "    }\n",
       "\n",
       "    .dataframe tbody tr th {\n",
       "        vertical-align: top;\n",
       "    }\n",
       "\n",
       "    .dataframe thead th {\n",
       "        text-align: right;\n",
       "    }\n",
       "</style>\n",
       "<table border=\"1\" class=\"dataframe\">\n",
       "  <thead>\n",
       "    <tr style=\"text-align: right;\">\n",
       "      <th></th>\n",
       "      <th>Customer ID</th>\n",
       "      <th>recency</th>\n",
       "      <th>T</th>\n",
       "      <th>frequency</th>\n",
       "      <th>monetary</th>\n",
       "      <th>clv</th>\n",
       "    </tr>\n",
       "  </thead>\n",
       "  <tbody>\n",
       "    <tr>\n",
       "      <th>1970</th>\n",
       "      <td>16446.0000</td>\n",
       "      <td>29.1429</td>\n",
       "      <td>29.4286</td>\n",
       "      <td>2</td>\n",
       "      <td>84236.2500</td>\n",
       "      <td>222174.6731</td>\n",
       "    </tr>\n",
       "    <tr>\n",
       "      <th>1122</th>\n",
       "      <td>14646.0000</td>\n",
       "      <td>50.4286</td>\n",
       "      <td>50.7143</td>\n",
       "      <td>74</td>\n",
       "      <td>3786.5678</td>\n",
       "      <td>114427.9995</td>\n",
       "    </tr>\n",
       "    <tr>\n",
       "      <th>2761</th>\n",
       "      <td>18102.0000</td>\n",
       "      <td>52.2857</td>\n",
       "      <td>52.5714</td>\n",
       "      <td>60</td>\n",
       "      <td>4327.6217</td>\n",
       "      <td>103726.3519</td>\n",
       "    </tr>\n",
       "    <tr>\n",
       "      <th>2458</th>\n",
       "      <td>17450.0000</td>\n",
       "      <td>51.2857</td>\n",
       "      <td>52.5714</td>\n",
       "      <td>46</td>\n",
       "      <td>4229.3650</td>\n",
       "      <td>78294.5326</td>\n",
       "    </tr>\n",
       "    <tr>\n",
       "      <th>843</th>\n",
       "      <td>14096.0000</td>\n",
       "      <td>13.8571</td>\n",
       "      <td>14.5714</td>\n",
       "      <td>17</td>\n",
       "      <td>3833.2229</td>\n",
       "      <td>68021.8367</td>\n",
       "    </tr>\n",
       "    <tr>\n",
       "      <th>36</th>\n",
       "      <td>12415.0000</td>\n",
       "      <td>44.7143</td>\n",
       "      <td>48.2857</td>\n",
       "      <td>21</td>\n",
       "      <td>5948.3110</td>\n",
       "      <td>56094.2473</td>\n",
       "    </tr>\n",
       "    <tr>\n",
       "      <th>1257</th>\n",
       "      <td>14911.0000</td>\n",
       "      <td>53.1429</td>\n",
       "      <td>53.4286</td>\n",
       "      <td>201</td>\n",
       "      <td>715.5476</td>\n",
       "      <td>55268.5391</td>\n",
       "    </tr>\n",
       "    <tr>\n",
       "      <th>874</th>\n",
       "      <td>14156.0000</td>\n",
       "      <td>51.5714</td>\n",
       "      <td>53.1429</td>\n",
       "      <td>55</td>\n",
       "      <td>2134.1751</td>\n",
       "      <td>46363.9816</td>\n",
       "    </tr>\n",
       "    <tr>\n",
       "      <th>1754</th>\n",
       "      <td>16000.0000</td>\n",
       "      <td>0.0000</td>\n",
       "      <td>0.4286</td>\n",
       "      <td>3</td>\n",
       "      <td>4131.2333</td>\n",
       "      <td>43009.3545</td>\n",
       "    </tr>\n",
       "    <tr>\n",
       "      <th>2487</th>\n",
       "      <td>17511.0000</td>\n",
       "      <td>52.8571</td>\n",
       "      <td>53.4286</td>\n",
       "      <td>31</td>\n",
       "      <td>2937.4961</td>\n",
       "      <td>37093.8375</td>\n",
       "    </tr>\n",
       "  </tbody>\n",
       "</table>\n",
       "</div>"
      ],
      "text/plain": [
       "      Customer ID  recency       T  frequency   monetary         clv\n",
       "1970   16446.0000  29.1429 29.4286          2 84236.2500 222174.6731\n",
       "1122   14646.0000  50.4286 50.7143         74  3786.5678 114427.9995\n",
       "2761   18102.0000  52.2857 52.5714         60  4327.6217 103726.3519\n",
       "2458   17450.0000  51.2857 52.5714         46  4229.3650  78294.5326\n",
       "843    14096.0000  13.8571 14.5714         17  3833.2229  68021.8367\n",
       "36     12415.0000  44.7143 48.2857         21  5948.3110  56094.2473\n",
       "1257   14911.0000  53.1429 53.4286        201   715.5476  55268.5391\n",
       "874    14156.0000  51.5714 53.1429         55  2134.1751  46363.9816\n",
       "1754   16000.0000   0.0000  0.4286          3  4131.2333  43009.3545\n",
       "2487   17511.0000  52.8571 53.4286         31  2937.4961  37093.8375"
      ]
     },
     "execution_count": 44,
     "metadata": {},
     "output_type": "execute_result"
    }
   ],
   "source": [
    "cltv_final.sort_values(by=\"clv\", ascending=False).head(10)"
   ]
  },
  {
   "cell_type": "code",
   "execution_count": 45,
   "id": "about-reset",
   "metadata": {
    "execution": {
     "iopub.execute_input": "2021-07-07T13:05:25.579618Z",
     "iopub.status.busy": "2021-07-07T13:05:25.578974Z",
     "iopub.status.idle": "2021-07-07T13:05:25.589243Z",
     "shell.execute_reply": "2021-07-07T13:05:25.589776Z",
     "shell.execute_reply.started": "2021-07-07T13:00:55.517019Z"
    },
    "papermill": {
     "duration": 0.074231,
     "end_time": "2021-07-07T13:05:25.589956",
     "exception": false,
     "start_time": "2021-07-07T13:05:25.515725",
     "status": "completed"
    },
    "tags": []
   },
   "outputs": [],
   "source": [
    "# Standardization of CLTV\n",
    "scaler = MinMaxScaler(feature_range=(0, 1)) # verileri okunabilir hale getirme amaçlı\n",
    "scaler.fit(cltv_final[[\"clv\"]])\n",
    "cltv_final[\"scaled_clv\"] = scaler.transform(cltv_final[[\"clv\"]])\n"
   ]
  },
  {
   "cell_type": "code",
   "execution_count": 46,
   "id": "listed-context",
   "metadata": {
    "execution": {
     "iopub.execute_input": "2021-07-07T13:05:25.715210Z",
     "iopub.status.busy": "2021-07-07T13:05:25.714561Z",
     "iopub.status.idle": "2021-07-07T13:05:25.727435Z",
     "shell.execute_reply": "2021-07-07T13:05:25.727977Z",
     "shell.execute_reply.started": "2021-07-07T13:00:55.532055Z"
    },
    "papermill": {
     "duration": 0.077091,
     "end_time": "2021-07-07T13:05:25.728144",
     "exception": false,
     "start_time": "2021-07-07T13:05:25.651053",
     "status": "completed"
    },
    "tags": []
   },
   "outputs": [
    {
     "data": {
      "text/html": [
       "<div>\n",
       "<style scoped>\n",
       "    .dataframe tbody tr th:only-of-type {\n",
       "        vertical-align: middle;\n",
       "    }\n",
       "\n",
       "    .dataframe tbody tr th {\n",
       "        vertical-align: top;\n",
       "    }\n",
       "\n",
       "    .dataframe thead th {\n",
       "        text-align: right;\n",
       "    }\n",
       "</style>\n",
       "<table border=\"1\" class=\"dataframe\">\n",
       "  <thead>\n",
       "    <tr style=\"text-align: right;\">\n",
       "      <th></th>\n",
       "      <th>Customer ID</th>\n",
       "      <th>recency</th>\n",
       "      <th>T</th>\n",
       "      <th>frequency</th>\n",
       "      <th>monetary</th>\n",
       "      <th>clv</th>\n",
       "      <th>scaled_clv</th>\n",
       "    </tr>\n",
       "  </thead>\n",
       "  <tbody>\n",
       "    <tr>\n",
       "      <th>1970</th>\n",
       "      <td>16446.0000</td>\n",
       "      <td>29.1429</td>\n",
       "      <td>29.4286</td>\n",
       "      <td>2</td>\n",
       "      <td>84236.2500</td>\n",
       "      <td>222174.6731</td>\n",
       "      <td>1.0000</td>\n",
       "    </tr>\n",
       "    <tr>\n",
       "      <th>1122</th>\n",
       "      <td>14646.0000</td>\n",
       "      <td>50.4286</td>\n",
       "      <td>50.7143</td>\n",
       "      <td>74</td>\n",
       "      <td>3786.5678</td>\n",
       "      <td>114427.9995</td>\n",
       "      <td>0.5150</td>\n",
       "    </tr>\n",
       "    <tr>\n",
       "      <th>2761</th>\n",
       "      <td>18102.0000</td>\n",
       "      <td>52.2857</td>\n",
       "      <td>52.5714</td>\n",
       "      <td>60</td>\n",
       "      <td>4327.6217</td>\n",
       "      <td>103726.3519</td>\n",
       "      <td>0.4669</td>\n",
       "    </tr>\n",
       "    <tr>\n",
       "      <th>2458</th>\n",
       "      <td>17450.0000</td>\n",
       "      <td>51.2857</td>\n",
       "      <td>52.5714</td>\n",
       "      <td>46</td>\n",
       "      <td>4229.3650</td>\n",
       "      <td>78294.5326</td>\n",
       "      <td>0.3524</td>\n",
       "    </tr>\n",
       "    <tr>\n",
       "      <th>843</th>\n",
       "      <td>14096.0000</td>\n",
       "      <td>13.8571</td>\n",
       "      <td>14.5714</td>\n",
       "      <td>17</td>\n",
       "      <td>3833.2229</td>\n",
       "      <td>68021.8367</td>\n",
       "      <td>0.3062</td>\n",
       "    </tr>\n",
       "  </tbody>\n",
       "</table>\n",
       "</div>"
      ],
      "text/plain": [
       "      Customer ID  recency       T  frequency   monetary         clv  \\\n",
       "1970   16446.0000  29.1429 29.4286          2 84236.2500 222174.6731   \n",
       "1122   14646.0000  50.4286 50.7143         74  3786.5678 114427.9995   \n",
       "2761   18102.0000  52.2857 52.5714         60  4327.6217 103726.3519   \n",
       "2458   17450.0000  51.2857 52.5714         46  4229.3650  78294.5326   \n",
       "843    14096.0000  13.8571 14.5714         17  3833.2229  68021.8367   \n",
       "\n",
       "      scaled_clv  \n",
       "1970      1.0000  \n",
       "1122      0.5150  \n",
       "2761      0.4669  \n",
       "2458      0.3524  \n",
       "843       0.3062  "
      ]
     },
     "execution_count": 46,
     "metadata": {},
     "output_type": "execute_result"
    }
   ],
   "source": [
    "# sorting:\n",
    "cltv_final.sort_values(by=\"scaled_clv\", ascending=False).head()\n",
    "\n"
   ]
  },
  {
   "cell_type": "code",
   "execution_count": 47,
   "id": "comfortable-crack",
   "metadata": {
    "execution": {
     "iopub.execute_input": "2021-07-07T13:05:25.854173Z",
     "iopub.status.busy": "2021-07-07T13:05:25.853565Z",
     "iopub.status.idle": "2021-07-07T13:05:25.858300Z",
     "shell.execute_reply": "2021-07-07T13:05:25.857798Z",
     "shell.execute_reply.started": "2021-07-07T13:00:55.555592Z"
    },
    "papermill": {
     "duration": 0.068884,
     "end_time": "2021-07-07T13:05:25.858429",
     "exception": false,
     "start_time": "2021-07-07T13:05:25.789545",
     "status": "completed"
    },
    "tags": []
   },
   "outputs": [],
   "source": [
    "cltv_final_copy = cltv_final.copy()"
   ]
  },
  {
   "cell_type": "markdown",
   "id": "comparable-sussex",
   "metadata": {
    "papermill": {
     "duration": 0.060452,
     "end_time": "2021-07-07T13:05:25.979991",
     "exception": false,
     "start_time": "2021-07-07T13:05:25.919539",
     "status": "completed"
    },
    "tags": []
   },
   "source": [
    "Comment: It is predicted that the estimated profit that customer \"18102\" will get at the end of 6 months will be \"85,651\" unit"
   ]
  },
  {
   "cell_type": "code",
   "execution_count": 48,
   "id": "ranging-surveillance",
   "metadata": {
    "execution": {
     "iopub.execute_input": "2021-07-07T13:05:26.114367Z",
     "iopub.status.busy": "2021-07-07T13:05:26.113711Z",
     "iopub.status.idle": "2021-07-07T13:05:26.135114Z",
     "shell.execute_reply": "2021-07-07T13:05:26.134504Z",
     "shell.execute_reply.started": "2021-07-07T13:00:55.565388Z"
    },
    "papermill": {
     "duration": 0.09453,
     "end_time": "2021-07-07T13:05:26.135275",
     "exception": false,
     "start_time": "2021-07-07T13:05:26.040745",
     "status": "completed"
    },
    "tags": []
   },
   "outputs": [],
   "source": [
    "###### CLTV for 1 Months #########\n",
    "\n",
    "cltv = ggf.customer_lifetime_value(bgf,\n",
    "                                   cltv_df['frequency'],\n",
    "                                   cltv_df['recency'],\n",
    "                                   cltv_df['T'],\n",
    "                                   cltv_df['monetary'],\n",
    "                                   time=1,  \n",
    "                                   freq=\"W\",  \n",
    "                                   discount_rate=0.01)"
   ]
  },
  {
   "cell_type": "code",
   "execution_count": 49,
   "id": "other-retro",
   "metadata": {
    "execution": {
     "iopub.execute_input": "2021-07-07T13:05:26.261919Z",
     "iopub.status.busy": "2021-07-07T13:05:26.260972Z",
     "iopub.status.idle": "2021-07-07T13:05:26.267998Z",
     "shell.execute_reply": "2021-07-07T13:05:26.267388Z",
     "shell.execute_reply.started": "2021-07-07T13:00:55.608639Z"
    },
    "papermill": {
     "duration": 0.071309,
     "end_time": "2021-07-07T13:05:26.268153",
     "exception": false,
     "start_time": "2021-07-07T13:05:26.196844",
     "status": "completed"
    },
    "tags": []
   },
   "outputs": [
    {
     "data": {
      "text/plain": [
       "Customer ID\n",
       "12347.0000   382.9171\n",
       "12348.0000   185.6408\n",
       "12352.0000   250.7175\n",
       "12356.0000   367.9822\n",
       "12358.0000   335.4972\n",
       "Name: clv, dtype: float64"
      ]
     },
     "execution_count": 49,
     "metadata": {},
     "output_type": "execute_result"
    }
   ],
   "source": [
    "cltv.head()"
   ]
  },
  {
   "cell_type": "code",
   "execution_count": 50,
   "id": "suffering-board",
   "metadata": {
    "execution": {
     "iopub.execute_input": "2021-07-07T13:05:26.399776Z",
     "iopub.status.busy": "2021-07-07T13:05:26.399093Z",
     "iopub.status.idle": "2021-07-07T13:05:26.417148Z",
     "shell.execute_reply": "2021-07-07T13:05:26.417615Z",
     "shell.execute_reply.started": "2021-07-07T13:00:55.617396Z"
    },
    "papermill": {
     "duration": 0.088149,
     "end_time": "2021-07-07T13:05:26.417813",
     "exception": false,
     "start_time": "2021-07-07T13:05:26.329664",
     "status": "completed"
    },
    "tags": []
   },
   "outputs": [
    {
     "data": {
      "text/html": [
       "<div>\n",
       "<style scoped>\n",
       "    .dataframe tbody tr th:only-of-type {\n",
       "        vertical-align: middle;\n",
       "    }\n",
       "\n",
       "    .dataframe tbody tr th {\n",
       "        vertical-align: top;\n",
       "    }\n",
       "\n",
       "    .dataframe thead th {\n",
       "        text-align: right;\n",
       "    }\n",
       "</style>\n",
       "<table border=\"1\" class=\"dataframe\">\n",
       "  <thead>\n",
       "    <tr style=\"text-align: right;\">\n",
       "      <th></th>\n",
       "      <th>Customer ID</th>\n",
       "      <th>recency</th>\n",
       "      <th>T</th>\n",
       "      <th>frequency</th>\n",
       "      <th>monetary</th>\n",
       "      <th>clv</th>\n",
       "    </tr>\n",
       "  </thead>\n",
       "  <tbody>\n",
       "    <tr>\n",
       "      <th>1970</th>\n",
       "      <td>16446.0000</td>\n",
       "      <td>29.1429</td>\n",
       "      <td>29.4286</td>\n",
       "      <td>2</td>\n",
       "      <td>84236.2500</td>\n",
       "      <td>39024.7524</td>\n",
       "    </tr>\n",
       "    <tr>\n",
       "      <th>1122</th>\n",
       "      <td>14646.0000</td>\n",
       "      <td>50.4286</td>\n",
       "      <td>50.7143</td>\n",
       "      <td>74</td>\n",
       "      <td>3786.5678</td>\n",
       "      <td>19899.6045</td>\n",
       "    </tr>\n",
       "    <tr>\n",
       "      <th>2761</th>\n",
       "      <td>18102.0000</td>\n",
       "      <td>52.2857</td>\n",
       "      <td>52.5714</td>\n",
       "      <td>60</td>\n",
       "      <td>4327.6217</td>\n",
       "      <td>18030.8899</td>\n",
       "    </tr>\n",
       "    <tr>\n",
       "      <th>2458</th>\n",
       "      <td>17450.0000</td>\n",
       "      <td>51.2857</td>\n",
       "      <td>52.5714</td>\n",
       "      <td>46</td>\n",
       "      <td>4229.3650</td>\n",
       "      <td>13610.5810</td>\n",
       "    </tr>\n",
       "    <tr>\n",
       "      <th>843</th>\n",
       "      <td>14096.0000</td>\n",
       "      <td>13.8571</td>\n",
       "      <td>14.5714</td>\n",
       "      <td>17</td>\n",
       "      <td>3833.2229</td>\n",
       "      <td>12054.9103</td>\n",
       "    </tr>\n",
       "    <tr>\n",
       "      <th>36</th>\n",
       "      <td>12415.0000</td>\n",
       "      <td>44.7143</td>\n",
       "      <td>48.2857</td>\n",
       "      <td>21</td>\n",
       "      <td>5948.3110</td>\n",
       "      <td>9763.7498</td>\n",
       "    </tr>\n",
       "    <tr>\n",
       "      <th>1257</th>\n",
       "      <td>14911.0000</td>\n",
       "      <td>53.1429</td>\n",
       "      <td>53.4286</td>\n",
       "      <td>201</td>\n",
       "      <td>715.5476</td>\n",
       "      <td>9604.5806</td>\n",
       "    </tr>\n",
       "    <tr>\n",
       "      <th>874</th>\n",
       "      <td>14156.0000</td>\n",
       "      <td>51.5714</td>\n",
       "      <td>53.1429</td>\n",
       "      <td>55</td>\n",
       "      <td>2134.1751</td>\n",
       "      <td>8058.5301</td>\n",
       "    </tr>\n",
       "    <tr>\n",
       "      <th>1754</th>\n",
       "      <td>16000.0000</td>\n",
       "      <td>0.0000</td>\n",
       "      <td>0.4286</td>\n",
       "      <td>3</td>\n",
       "      <td>4131.2333</td>\n",
       "      <td>7842.8548</td>\n",
       "    </tr>\n",
       "    <tr>\n",
       "      <th>2487</th>\n",
       "      <td>17511.0000</td>\n",
       "      <td>52.8571</td>\n",
       "      <td>53.4286</td>\n",
       "      <td>31</td>\n",
       "      <td>2937.4961</td>\n",
       "      <td>6447.5392</td>\n",
       "    </tr>\n",
       "  </tbody>\n",
       "</table>\n",
       "</div>"
      ],
      "text/plain": [
       "      Customer ID  recency       T  frequency   monetary        clv\n",
       "1970   16446.0000  29.1429 29.4286          2 84236.2500 39024.7524\n",
       "1122   14646.0000  50.4286 50.7143         74  3786.5678 19899.6045\n",
       "2761   18102.0000  52.2857 52.5714         60  4327.6217 18030.8899\n",
       "2458   17450.0000  51.2857 52.5714         46  4229.3650 13610.5810\n",
       "843    14096.0000  13.8571 14.5714         17  3833.2229 12054.9103\n",
       "36     12415.0000  44.7143 48.2857         21  5948.3110  9763.7498\n",
       "1257   14911.0000  53.1429 53.4286        201   715.5476  9604.5806\n",
       "874    14156.0000  51.5714 53.1429         55  2134.1751  8058.5301\n",
       "1754   16000.0000   0.0000  0.4286          3  4131.2333  7842.8548\n",
       "2487   17511.0000  52.8571 53.4286         31  2937.4961  6447.5392"
      ]
     },
     "execution_count": 50,
     "metadata": {},
     "output_type": "execute_result"
    }
   ],
   "source": [
    "cltv = cltv.reset_index()\n",
    "cltv.columns = [\"Customer ID\", \"clv\"]\n",
    "cltv.sort_values(by=\"clv\", ascending=False).head(50)\n",
    "cltv_final = cltv_df.merge(cltv, on=\"Customer ID\", how=\"left\")\n",
    "\n",
    "cltv_final.sort_values(by=\"clv\", ascending=False).head(10)"
   ]
  },
  {
   "cell_type": "code",
   "execution_count": 51,
   "id": "vocal-witch",
   "metadata": {
    "execution": {
     "iopub.execute_input": "2021-07-07T13:05:26.545653Z",
     "iopub.status.busy": "2021-07-07T13:05:26.544994Z",
     "iopub.status.idle": "2021-07-07T13:05:26.555098Z",
     "shell.execute_reply": "2021-07-07T13:05:26.555558Z",
     "shell.execute_reply.started": "2021-07-07T13:00:55.648658Z"
    },
    "papermill": {
     "duration": 0.075369,
     "end_time": "2021-07-07T13:05:26.555749",
     "exception": false,
     "start_time": "2021-07-07T13:05:26.480380",
     "status": "completed"
    },
    "tags": []
   },
   "outputs": [],
   "source": [
    "\n",
    "# Standardization of CLTV\n",
    "scaler = MinMaxScaler(feature_range=(0, 1))\n",
    "scaler.fit(cltv_final[[\"clv\"]])\n",
    "cltv_final[\"scaled_clv\"] = scaler.transform(cltv_final[[\"clv\"]])\n"
   ]
  },
  {
   "cell_type": "code",
   "execution_count": 52,
   "id": "defined-franchise",
   "metadata": {
    "execution": {
     "iopub.execute_input": "2021-07-07T13:05:26.683253Z",
     "iopub.status.busy": "2021-07-07T13:05:26.682625Z",
     "iopub.status.idle": "2021-07-07T13:05:26.696300Z",
     "shell.execute_reply": "2021-07-07T13:05:26.696819Z",
     "shell.execute_reply.started": "2021-07-07T13:00:55.661144Z"
    },
    "papermill": {
     "duration": 0.079279,
     "end_time": "2021-07-07T13:05:26.696991",
     "exception": false,
     "start_time": "2021-07-07T13:05:26.617712",
     "status": "completed"
    },
    "tags": []
   },
   "outputs": [
    {
     "data": {
      "text/html": [
       "<div>\n",
       "<style scoped>\n",
       "    .dataframe tbody tr th:only-of-type {\n",
       "        vertical-align: middle;\n",
       "    }\n",
       "\n",
       "    .dataframe tbody tr th {\n",
       "        vertical-align: top;\n",
       "    }\n",
       "\n",
       "    .dataframe thead th {\n",
       "        text-align: right;\n",
       "    }\n",
       "</style>\n",
       "<table border=\"1\" class=\"dataframe\">\n",
       "  <thead>\n",
       "    <tr style=\"text-align: right;\">\n",
       "      <th></th>\n",
       "      <th>Customer ID</th>\n",
       "      <th>recency</th>\n",
       "      <th>T</th>\n",
       "      <th>frequency</th>\n",
       "      <th>monetary</th>\n",
       "      <th>clv</th>\n",
       "      <th>scaled_clv</th>\n",
       "    </tr>\n",
       "  </thead>\n",
       "  <tbody>\n",
       "    <tr>\n",
       "      <th>1970</th>\n",
       "      <td>16446.0000</td>\n",
       "      <td>29.1429</td>\n",
       "      <td>29.4286</td>\n",
       "      <td>2</td>\n",
       "      <td>84236.2500</td>\n",
       "      <td>39024.7524</td>\n",
       "      <td>1.0000</td>\n",
       "    </tr>\n",
       "    <tr>\n",
       "      <th>1122</th>\n",
       "      <td>14646.0000</td>\n",
       "      <td>50.4286</td>\n",
       "      <td>50.7143</td>\n",
       "      <td>74</td>\n",
       "      <td>3786.5678</td>\n",
       "      <td>19899.6045</td>\n",
       "      <td>0.5099</td>\n",
       "    </tr>\n",
       "    <tr>\n",
       "      <th>2761</th>\n",
       "      <td>18102.0000</td>\n",
       "      <td>52.2857</td>\n",
       "      <td>52.5714</td>\n",
       "      <td>60</td>\n",
       "      <td>4327.6217</td>\n",
       "      <td>18030.8899</td>\n",
       "      <td>0.4620</td>\n",
       "    </tr>\n",
       "    <tr>\n",
       "      <th>2458</th>\n",
       "      <td>17450.0000</td>\n",
       "      <td>51.2857</td>\n",
       "      <td>52.5714</td>\n",
       "      <td>46</td>\n",
       "      <td>4229.3650</td>\n",
       "      <td>13610.5810</td>\n",
       "      <td>0.3488</td>\n",
       "    </tr>\n",
       "    <tr>\n",
       "      <th>843</th>\n",
       "      <td>14096.0000</td>\n",
       "      <td>13.8571</td>\n",
       "      <td>14.5714</td>\n",
       "      <td>17</td>\n",
       "      <td>3833.2229</td>\n",
       "      <td>12054.9103</td>\n",
       "      <td>0.3089</td>\n",
       "    </tr>\n",
       "    <tr>\n",
       "      <th>36</th>\n",
       "      <td>12415.0000</td>\n",
       "      <td>44.7143</td>\n",
       "      <td>48.2857</td>\n",
       "      <td>21</td>\n",
       "      <td>5948.3110</td>\n",
       "      <td>9763.7498</td>\n",
       "      <td>0.2502</td>\n",
       "    </tr>\n",
       "    <tr>\n",
       "      <th>1257</th>\n",
       "      <td>14911.0000</td>\n",
       "      <td>53.1429</td>\n",
       "      <td>53.4286</td>\n",
       "      <td>201</td>\n",
       "      <td>715.5476</td>\n",
       "      <td>9604.5806</td>\n",
       "      <td>0.2461</td>\n",
       "    </tr>\n",
       "    <tr>\n",
       "      <th>874</th>\n",
       "      <td>14156.0000</td>\n",
       "      <td>51.5714</td>\n",
       "      <td>53.1429</td>\n",
       "      <td>55</td>\n",
       "      <td>2134.1751</td>\n",
       "      <td>8058.5301</td>\n",
       "      <td>0.2065</td>\n",
       "    </tr>\n",
       "    <tr>\n",
       "      <th>1754</th>\n",
       "      <td>16000.0000</td>\n",
       "      <td>0.0000</td>\n",
       "      <td>0.4286</td>\n",
       "      <td>3</td>\n",
       "      <td>4131.2333</td>\n",
       "      <td>7842.8548</td>\n",
       "      <td>0.2010</td>\n",
       "    </tr>\n",
       "    <tr>\n",
       "      <th>2487</th>\n",
       "      <td>17511.0000</td>\n",
       "      <td>52.8571</td>\n",
       "      <td>53.4286</td>\n",
       "      <td>31</td>\n",
       "      <td>2937.4961</td>\n",
       "      <td>6447.5392</td>\n",
       "      <td>0.1652</td>\n",
       "    </tr>\n",
       "  </tbody>\n",
       "</table>\n",
       "</div>"
      ],
      "text/plain": [
       "      Customer ID  recency       T  frequency   monetary        clv  \\\n",
       "1970   16446.0000  29.1429 29.4286          2 84236.2500 39024.7524   \n",
       "1122   14646.0000  50.4286 50.7143         74  3786.5678 19899.6045   \n",
       "2761   18102.0000  52.2857 52.5714         60  4327.6217 18030.8899   \n",
       "2458   17450.0000  51.2857 52.5714         46  4229.3650 13610.5810   \n",
       "843    14096.0000  13.8571 14.5714         17  3833.2229 12054.9103   \n",
       "36     12415.0000  44.7143 48.2857         21  5948.3110  9763.7498   \n",
       "1257   14911.0000  53.1429 53.4286        201   715.5476  9604.5806   \n",
       "874    14156.0000  51.5714 53.1429         55  2134.1751  8058.5301   \n",
       "1754   16000.0000   0.0000  0.4286          3  4131.2333  7842.8548   \n",
       "2487   17511.0000  52.8571 53.4286         31  2937.4961  6447.5392   \n",
       "\n",
       "      scaled_clv  \n",
       "1970      1.0000  \n",
       "1122      0.5099  \n",
       "2761      0.4620  \n",
       "2458      0.3488  \n",
       "843       0.3089  \n",
       "36        0.2502  \n",
       "1257      0.2461  \n",
       "874       0.2065  \n",
       "1754      0.2010  \n",
       "2487      0.1652  "
      ]
     },
     "execution_count": 52,
     "metadata": {},
     "output_type": "execute_result"
    }
   ],
   "source": [
    "cltv_final.sort_values(by=\"scaled_clv\", ascending=False).head(10)"
   ]
  },
  {
   "cell_type": "code",
   "execution_count": 53,
   "id": "reserved-texas",
   "metadata": {
    "execution": {
     "iopub.execute_input": "2021-07-07T13:05:26.827338Z",
     "iopub.status.busy": "2021-07-07T13:05:26.826495Z",
     "iopub.status.idle": "2021-07-07T13:05:27.118201Z",
     "shell.execute_reply": "2021-07-07T13:05:27.118738Z",
     "shell.execute_reply.started": "2021-07-07T13:00:55.688069Z"
    },
    "papermill": {
     "duration": 0.358372,
     "end_time": "2021-07-07T13:05:27.118912",
     "exception": false,
     "start_time": "2021-07-07T13:05:26.760540",
     "status": "completed"
    },
    "tags": []
   },
   "outputs": [
    {
     "data": {
      "text/html": [
       "<div>\n",
       "<style scoped>\n",
       "    .dataframe tbody tr th:only-of-type {\n",
       "        vertical-align: middle;\n",
       "    }\n",
       "\n",
       "    .dataframe tbody tr th {\n",
       "        vertical-align: top;\n",
       "    }\n",
       "\n",
       "    .dataframe thead th {\n",
       "        text-align: right;\n",
       "    }\n",
       "</style>\n",
       "<table border=\"1\" class=\"dataframe\">\n",
       "  <thead>\n",
       "    <tr style=\"text-align: right;\">\n",
       "      <th></th>\n",
       "      <th>Customer ID</th>\n",
       "      <th>recency</th>\n",
       "      <th>T</th>\n",
       "      <th>frequency</th>\n",
       "      <th>monetary</th>\n",
       "      <th>clv</th>\n",
       "      <th>scaled_clv</th>\n",
       "    </tr>\n",
       "  </thead>\n",
       "  <tbody>\n",
       "    <tr>\n",
       "      <th>1970</th>\n",
       "      <td>16446.0000</td>\n",
       "      <td>29.1429</td>\n",
       "      <td>29.4286</td>\n",
       "      <td>2</td>\n",
       "      <td>84236.2500</td>\n",
       "      <td>420946.6328</td>\n",
       "      <td>1.0000</td>\n",
       "    </tr>\n",
       "    <tr>\n",
       "      <th>1122</th>\n",
       "      <td>14646.0000</td>\n",
       "      <td>50.4286</td>\n",
       "      <td>50.7143</td>\n",
       "      <td>74</td>\n",
       "      <td>3786.5678</td>\n",
       "      <td>218426.5573</td>\n",
       "      <td>0.5189</td>\n",
       "    </tr>\n",
       "    <tr>\n",
       "      <th>2761</th>\n",
       "      <td>18102.0000</td>\n",
       "      <td>52.2857</td>\n",
       "      <td>52.5714</td>\n",
       "      <td>60</td>\n",
       "      <td>4327.6217</td>\n",
       "      <td>198066.5526</td>\n",
       "      <td>0.4705</td>\n",
       "    </tr>\n",
       "    <tr>\n",
       "      <th>2458</th>\n",
       "      <td>17450.0000</td>\n",
       "      <td>51.2857</td>\n",
       "      <td>52.5714</td>\n",
       "      <td>46</td>\n",
       "      <td>4229.3650</td>\n",
       "      <td>149499.4022</td>\n",
       "      <td>0.3552</td>\n",
       "    </tr>\n",
       "    <tr>\n",
       "      <th>843</th>\n",
       "      <td>14096.0000</td>\n",
       "      <td>13.8571</td>\n",
       "      <td>14.5714</td>\n",
       "      <td>17</td>\n",
       "      <td>3833.2229</td>\n",
       "      <td>128156.3293</td>\n",
       "      <td>0.3044</td>\n",
       "    </tr>\n",
       "    <tr>\n",
       "      <th>36</th>\n",
       "      <td>12415.0000</td>\n",
       "      <td>44.7143</td>\n",
       "      <td>48.2857</td>\n",
       "      <td>21</td>\n",
       "      <td>5948.3110</td>\n",
       "      <td>106999.5344</td>\n",
       "      <td>0.2542</td>\n",
       "    </tr>\n",
       "    <tr>\n",
       "      <th>1257</th>\n",
       "      <td>14911.0000</td>\n",
       "      <td>53.1429</td>\n",
       "      <td>53.4286</td>\n",
       "      <td>201</td>\n",
       "      <td>715.5476</td>\n",
       "      <td>105561.1399</td>\n",
       "      <td>0.2508</td>\n",
       "    </tr>\n",
       "    <tr>\n",
       "      <th>874</th>\n",
       "      <td>14156.0000</td>\n",
       "      <td>51.5714</td>\n",
       "      <td>53.1429</td>\n",
       "      <td>55</td>\n",
       "      <td>2134.1751</td>\n",
       "      <td>88541.2801</td>\n",
       "      <td>0.2103</td>\n",
       "    </tr>\n",
       "    <tr>\n",
       "      <th>1754</th>\n",
       "      <td>16000.0000</td>\n",
       "      <td>0.0000</td>\n",
       "      <td>0.4286</td>\n",
       "      <td>3</td>\n",
       "      <td>4131.2333</td>\n",
       "      <td>79875.6297</td>\n",
       "      <td>0.1898</td>\n",
       "    </tr>\n",
       "    <tr>\n",
       "      <th>2487</th>\n",
       "      <td>17511.0000</td>\n",
       "      <td>52.8571</td>\n",
       "      <td>53.4286</td>\n",
       "      <td>31</td>\n",
       "      <td>2937.4961</td>\n",
       "      <td>70835.7751</td>\n",
       "      <td>0.1683</td>\n",
       "    </tr>\n",
       "  </tbody>\n",
       "</table>\n",
       "</div>"
      ],
      "text/plain": [
       "      Customer ID  recency       T  frequency   monetary         clv  \\\n",
       "1970   16446.0000  29.1429 29.4286          2 84236.2500 420946.6328   \n",
       "1122   14646.0000  50.4286 50.7143         74  3786.5678 218426.5573   \n",
       "2761   18102.0000  52.2857 52.5714         60  4327.6217 198066.5526   \n",
       "2458   17450.0000  51.2857 52.5714         46  4229.3650 149499.4022   \n",
       "843    14096.0000  13.8571 14.5714         17  3833.2229 128156.3293   \n",
       "36     12415.0000  44.7143 48.2857         21  5948.3110 106999.5344   \n",
       "1257   14911.0000  53.1429 53.4286        201   715.5476 105561.1399   \n",
       "874    14156.0000  51.5714 53.1429         55  2134.1751  88541.2801   \n",
       "1754   16000.0000   0.0000  0.4286          3  4131.2333  79875.6297   \n",
       "2487   17511.0000  52.8571 53.4286         31  2937.4961  70835.7751   \n",
       "\n",
       "      scaled_clv  \n",
       "1970      1.0000  \n",
       "1122      0.5189  \n",
       "2761      0.4705  \n",
       "2458      0.3552  \n",
       "843       0.3044  \n",
       "36        0.2542  \n",
       "1257      0.2508  \n",
       "874       0.2103  \n",
       "1754      0.1898  \n",
       "2487      0.1683  "
      ]
     },
     "execution_count": 53,
     "metadata": {},
     "output_type": "execute_result"
    }
   ],
   "source": [
    "###### CLTV for 12 Months #########\n",
    "\n",
    "cltv = ggf.customer_lifetime_value(bgf,\n",
    "                                   cltv_df['frequency'],\n",
    "                                   cltv_df['recency'],\n",
    "                                   cltv_df['T'],\n",
    "                                   cltv_df['monetary'],\n",
    "                                   time=12,  \n",
    "                                   freq=\"W\", \n",
    "                                   discount_rate=0.01)\n",
    "\n",
    "cltv.head()\n",
    "\n",
    "cltv = cltv.reset_index()\n",
    "cltv.columns = [\"Customer ID\", \"clv\"]\n",
    "cltv.sort_values(by=\"clv\", ascending=False).head(50)\n",
    "cltv_final = cltv_df.merge(cltv, on=\"Customer ID\", how=\"left\")\n",
    "\n",
    "cltv_final.sort_values(by=\"clv\", ascending=False).head(10)\n",
    "\n",
    "# Standardization of CLTV\n",
    "scaler = MinMaxScaler(feature_range=(0, 1))\n",
    "scaler.fit(cltv_final[[\"clv\"]])\n",
    "cltv_final[\"scaled_clv\"] = scaler.transform(cltv_final[[\"clv\"]])\n",
    "\n",
    "# sorting:\n",
    "cltv_final.sort_values(by=\"scaled_clv\", ascending=False).head(10)"
   ]
  }
 ],
 "metadata": {
  "kernelspec": {
   "display_name": "Python 3",
   "language": "python",
   "name": "python3"
  },
  "language_info": {
   "codemirror_mode": {
    "name": "ipython",
    "version": 3
   },
   "file_extension": ".py",
   "mimetype": "text/x-python",
   "name": "python",
   "nbconvert_exporter": "python",
   "pygments_lexer": "ipython3",
   "version": "3.7.9"
  },
  "papermill": {
   "default_parameters": {},
   "duration": 155.004263,
   "end_time": "2021-07-07T13:05:27.893204",
   "environment_variables": {},
   "exception": null,
   "input_path": "__notebook__.ipynb",
   "output_path": "__notebook__.ipynb",
   "parameters": {},
   "start_time": "2021-07-07T13:02:52.888941",
   "version": "2.3.2"
  }
 },
 "nbformat": 4,
 "nbformat_minor": 5
}
